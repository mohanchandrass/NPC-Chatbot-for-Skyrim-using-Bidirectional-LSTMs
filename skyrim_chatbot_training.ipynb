{
  "cells": [
    {
      "cell_type": "markdown",
      "metadata": {
        "id": "zUbQ3jZyI2IS"
      },
      "source": [
        "\n",
        "Skyrim NPC Chatbot\n",
        "---------------------\n",
        "This notebook trains three Skyrim-themed chatbot models based on in-game dialogue:\n",
        "\n",
        "1. BiLSTM Chatbot (with Keras Tokenizer & padded sequences)\n",
        "2. GloVe + BiLSTM Chatbot (with pre-trained GloVe 300D embeddings)\n",
        "3. DistilGPT2 Chatbot (fine-tuned using HuggingFace Transformers)\n",
        "\n",
        "Features:\n",
        "- Auto-saves models and tokenizer to Google Drive\n",
        "- Handles preprocessing, tokenization, and padding\n",
        "- Includes real-time chat interface for interaction\n",
        "- GPT2 responses are sampled with top-k and top-p filtering\n",
        "- Dataset format: Player Input ↔ NPC Response (CSV)\n",
        "\n",
        "Data path: `/content/drive/MyDrive/chatbot/dataset_final.csv`\n",
        "\n",
        "Model save path: `/content/drive/MyDrive/chatbot/`\n",
        "\n",
        "Usage:\n",
        "- Run each cell to preprocess, train, and chat\n",
        "- Use `exit` or `quit` to leave the chat loop\n",
        "\n",
        "\n",
        "Github: https://github.com/mohanchandrass/NPC-Chatbot-for-Skyrim-using-Bidirectional-LSTMs\n"
      ]
    },
    {
      "cell_type": "markdown",
      "metadata": {
        "id": "zIxYF2apgQBu"
      },
      "source": [
        "# **1. Setup and Imports**"
      ]
    },
    {
      "cell_type": "code",
      "execution_count": null,
      "metadata": {
        "id": "VqYim-iIgRyi"
      },
      "outputs": [],
      "source": [
        "import numpy as np\n",
        "import tensorflow as tf\n",
        "from tensorflow.keras.preprocessing.text import Tokenizer\n",
        "from tensorflow.keras.preprocessing.sequence import pad_sequences\n",
        "from tensorflow.keras.models import Sequential\n",
        "from tensorflow.keras.layers import Embedding, LSTM, Dense, Dropout, Bidirectional\n",
        "from tensorflow.keras.optimizers import Adam\n",
        "from sklearn.model_selection import train_test_split\n",
        "from tensorflow.keras.callbacks import EarlyStopping, ModelCheckpoint, Callback\n",
        "import keras.backend as K\n",
        "import keras.losses as losses\n",
        "import os\n",
        "import pandas as pd\n",
        "import re\n",
        "import pickle\n",
        "from google.colab import drive\n"
      ]
    },
    {
      "cell_type": "markdown",
      "metadata": {
        "id": "j5_QENdugUpt"
      },
      "source": [
        "# **2. Mount Google Drive for Auto-Saving**"
      ]
    },
    {
      "cell_type": "code",
      "execution_count": null,
      "metadata": {
        "colab": {
          "base_uri": "https://localhost:8080/"
        },
        "id": "Odg0uEq0gYcj",
        "outputId": "a7565f50-c894-49fe-fd5e-10cd376aaba5"
      },
      "outputs": [
        {
          "name": "stdout",
          "output_type": "stream",
          "text": [
            "Drive already mounted at /content/drive; to attempt to forcibly remount, call drive.mount(\"/content/drive\", force_remount=True).\n"
          ]
        }
      ],
      "source": [
        "drive.mount('/content/drive')\n",
        "\n",
        "drive_save_path = \"/content/drive/MyDrive/chatbot/BiLstm\"\n",
        "os.makedirs(drive_save_path, exist_ok=True)\n",
        "\n",
        "tf.keras.mixed_precision.set_global_policy('mixed_float16')"
      ]
    },
    {
      "cell_type": "markdown",
      "metadata": {
        "id": "h5FzlgaKgits"
      },
      "source": [
        "# **3. Data Preprocessing**"
      ]
    },
    {
      "cell_type": "code",
      "execution_count": null,
      "metadata": {
        "id": "6f_gjZzMgmev"
      },
      "outputs": [],
      "source": [
        "def preprocess_text(text):\n",
        "    text = text.lower().strip()\n",
        "    text = re.sub(r\"[^a-zA-Z0-9\\s]\", \"\", text)\n",
        "    return text.strip()"
      ]
    },
    {
      "cell_type": "markdown",
      "metadata": {
        "id": "xLf9sQo-grXa"
      },
      "source": [
        "# **5. Load Skyrim Dialogue Dataset**"
      ]
    },
    {
      "cell_type": "code",
      "execution_count": null,
      "metadata": {
        "id": "Z64vz_bFguO3"
      },
      "outputs": [],
      "source": [
        "def load_skyrim_dialogue_dataset(file_path):\n",
        "    if not os.path.exists(file_path):\n",
        "        raise FileNotFoundError(f\"File not found: {file_path}\")\n",
        "\n",
        "    df = pd.read_csv(file_path)\n",
        "\n",
        "    player_inputs = df['Player Input'].astype(str).apply(preprocess_text).tolist()\n",
        "    npc_responses = df['NPC Response'].astype(str).apply(preprocess_text).tolist()\n",
        "\n",
        "    return player_inputs, npc_responses\n",
        "\n",
        "file_path = \"/content/drive/MyDrive/chatbot/dataset_final.csv\"\n",
        "player_inputs, npc_responses = load_skyrim_dialogue_dataset(file_path)"
      ]
    },
    {
      "cell_type": "markdown",
      "metadata": {
        "id": "ZHpgcVNGg6pI"
      },
      "source": [
        "# **6. Tokenization and Padding**"
      ]
    },
    {
      "cell_type": "code",
      "execution_count": null,
      "metadata": {
        "colab": {
          "base_uri": "https://localhost:8080/"
        },
        "id": "mCvKAiFzg8mJ",
        "outputId": "7239f1f0-cc1b-4064-b8e6-09f4c1e1c099"
      },
      "outputs": [
        {
          "name": "stdout",
          "output_type": "stream",
          "text": [
            "Input padded shape: (50000, 50)\n",
            "Response padded shape: (50000, 50)\n",
            "Vocab size: 6086\n"
          ]
        }
      ],
      "source": [
        "tokenizer = Tokenizer(filters='', oov_token='<OOV>')\n",
        "tokenizer.fit_on_texts(player_inputs + npc_responses)\n",
        "vocab_size = len(tokenizer.word_index) + 1\n",
        "\n",
        "\n",
        "tokenizer_path = os.path.join(drive_save_path, \"tokenizer.pkl\")\n",
        "with open(tokenizer_path, \"wb\") as handle:\n",
        "    pickle.dump(tokenizer, handle, protocol=pickle.HIGHEST_PROTOCOL)\n",
        "\n",
        "max_len = 50\n",
        "input_sequences = tokenizer.texts_to_sequences(player_inputs)\n",
        "response_sequences = tokenizer.texts_to_sequences(npc_responses)\n",
        "\n",
        "\n",
        "input_padded = pad_sequences(input_sequences, maxlen=max_len, padding='post')\n",
        "response_padded = pad_sequences(response_sequences, maxlen=max_len, padding='post')\n",
        "\n",
        "\n",
        "print(f\"Input padded shape: {input_padded.shape}\")\n",
        "print(f\"Response padded shape: {response_padded.shape}\")\n",
        "print(f\"Vocab size: {vocab_size}\")\n"
      ]
    },
    {
      "cell_type": "markdown",
      "metadata": {
        "id": "J3zpn9TAhAcs"
      },
      "source": [
        "# **7. Train-Test Split**"
      ]
    },
    {
      "cell_type": "code",
      "execution_count": null,
      "metadata": {
        "id": "3owYljwRhCNv"
      },
      "outputs": [],
      "source": [
        "X_train, X_val, y_train, y_val = train_test_split(input_padded, response_padded, test_size=0.2, random_state=42)\n"
      ]
    },
    {
      "cell_type": "code",
      "execution_count": null,
      "metadata": {
        "colab": {
          "base_uri": "https://localhost:8080/"
        },
        "id": "HW3Yhrdp19cT",
        "outputId": "ea15a2aa-8637-4635-86ed-b59295e63bab"
      },
      "outputs": [
        {
          "name": "stdout",
          "output_type": "stream",
          "text": [
            "(40000, 50)\n",
            "(40000, 50)\n",
            "Shape of y_train: (40000, 50)\n",
            "Data type of y_train: int32\n",
            "Sample y_train values:\n",
            " [ 25  34   2 470 702 752  29   2 294   4 769 129   0   0   0   0   0   0\n",
            "   0   0   0   0   0   0   0   0   0   0   0   0   0   0   0   0   0   0\n",
            "   0   0   0   0   0   0   0   0   0   0   0   0   0   0]\n"
          ]
        }
      ],
      "source": [
        "print(X_train.shape)\n",
        "print(y_train.shape)\n",
        "print(\"Shape of y_train:\", y_train.shape)\n",
        "print(\"Data type of y_train:\", y_train.dtype)\n",
        "print(\"Sample y_train values:\\n\", y_train[0])"
      ]
    },
    {
      "cell_type": "markdown",
      "metadata": {
        "id": "T67jOeGehFlB"
      },
      "source": [
        "# **8. Model Architecture**"
      ]
    },
    {
      "cell_type": "code",
      "execution_count": null,
      "metadata": {
        "id": "F0YFlKHb2PxB"
      },
      "outputs": [],
      "source": [
        "def perplexity(y_true, y_pred):\n",
        "    cross_entropy = tf.keras.losses.sparse_categorical_crossentropy(y_true, y_pred)\n",
        "    return tf.exp(tf.reduce_mean(cross_entropy))\n"
      ]
    },
    {
      "cell_type": "code",
      "execution_count": null,
      "metadata": {
        "colab": {
          "base_uri": "https://localhost:8080/"
        },
        "id": "o2SuK8ZEhIkI",
        "outputId": "768e3ba8-b71a-4263-819c-30093472d970"
      },
      "outputs": [
        {
          "name": "stderr",
          "output_type": "stream",
          "text": [
            "/usr/local/lib/python3.11/dist-packages/keras/src/layers/core/embedding.py:90: UserWarning: Argument `input_length` is deprecated. Just remove it.\n",
            "  warnings.warn(\n"
          ]
        }
      ],
      "source": [
        "embedding_dim = 256\n",
        "lstm_units = 512\n",
        "dropout_rate = 0.3\n",
        "\n",
        "model = Sequential([\n",
        "    Embedding(input_dim=vocab_size, output_dim=embedding_dim, input_length=max_len),\n",
        "    Bidirectional(LSTM(lstm_units, return_sequences=True)),\n",
        "    Dropout(dropout_rate),\n",
        "    Bidirectional(LSTM(lstm_units, return_sequences=True)),\n",
        "    Dropout(dropout_rate),\n",
        "    Dense(vocab_size, activation='softmax')\n",
        "])\n",
        "\n",
        "optimizer = Adam(learning_rate=0.001)\n",
        "\n",
        "model.compile(\n",
        "    loss='sparse_categorical_crossentropy',\n",
        "    optimizer=optimizer,\n",
        "    metrics=['accuracy', perplexity]\n",
        ")"
      ]
    },
    {
      "cell_type": "markdown",
      "metadata": {
        "id": "3_Pdyf5chNvn"
      },
      "source": [
        "# **9. Callback for Model and Tokenizer Saving**"
      ]
    },
    {
      "cell_type": "code",
      "execution_count": null,
      "metadata": {
        "id": "6oLJ-un6hR1I"
      },
      "outputs": [],
      "source": [
        "class SaveModelAndTokenizerCallback(Callback):\n",
        "    def on_epoch_end(self, epoch, logs=None):\n",
        "        # Save tokenizer\n",
        "        tokenizer_path = os.path.join(drive_save_path, f\"tokenizer.pkl\")\n",
        "        with open(tokenizer_path, \"wb\") as handle:\n",
        "            pickle.dump(tokenizer, handle, protocol=pickle.HIGHEST_PROTOCOL)\n",
        "\n",
        "        # Save model\n",
        "        epoch_model_path = os.path.join(drive_save_path, f\"skyrim_chatbot_latest.keras\")\n",
        "        self.model.save(epoch_model_path)\n",
        "\n",
        "        print(f\"✅ Model and Tokenizer saved after epoch {epoch+1} at {epoch_model_path} and {tokenizer_path}\")\n"
      ]
    },
    {
      "cell_type": "markdown",
      "metadata": {
        "id": "5nb8UPxXhbHm"
      },
      "source": [
        "# **10. Training**"
      ]
    },
    {
      "cell_type": "code",
      "execution_count": null,
      "metadata": {
        "colab": {
          "base_uri": "https://localhost:8080/"
        },
        "id": "7ueBLvFahdrE",
        "outputId": "b60aacc3-9b1f-4f55-cfe6-372eb46d0d64"
      },
      "outputs": [
        {
          "name": "stdout",
          "output_type": "stream",
          "text": [
            "Epoch 1/100\n",
            "\u001b[1m625/625\u001b[0m \u001b[32m━━━━━━━━━━━━━━━━━━━━\u001b[0m\u001b[37m\u001b[0m \u001b[1m0s\u001b[0m 85ms/step - accuracy: 0.8199 - loss: 1.5610 - perplexity: 116.4468✅ Model and Tokenizer saved after epoch 1 at /content/drive/MyDrive/chatbot/BiLstm/skyrim_chatbot_latest.keras and /content/drive/MyDrive/chatbot/BiLstm/tokenizer.pkl\n",
            "\u001b[1m625/625\u001b[0m \u001b[32m━━━━━━━━━━━━━━━━━━━━\u001b[0m\u001b[37m\u001b[0m \u001b[1m83s\u001b[0m 112ms/step - accuracy: 0.8200 - loss: 1.5605 - perplexity: 116.2937 - val_accuracy: 0.8345 - val_loss: 1.1331 - val_perplexity: 3.1123\n",
            "Epoch 2/100\n",
            "\u001b[1m625/625\u001b[0m \u001b[32m━━━━━━━━━━━━━━━━━━━━\u001b[0m\u001b[37m\u001b[0m \u001b[1m0s\u001b[0m 86ms/step - accuracy: 0.8355 - loss: 1.1104 - perplexity: 3.0437✅ Model and Tokenizer saved after epoch 2 at /content/drive/MyDrive/chatbot/BiLstm/skyrim_chatbot_latest.keras and /content/drive/MyDrive/chatbot/BiLstm/tokenizer.pkl\n",
            "\u001b[1m625/625\u001b[0m \u001b[32m━━━━━━━━━━━━━━━━━━━━\u001b[0m\u001b[37m\u001b[0m \u001b[1m64s\u001b[0m 102ms/step - accuracy: 0.8355 - loss: 1.1104 - perplexity: 3.0436 - val_accuracy: 0.8391 - val_loss: 1.0370 - val_perplexity: 2.8255\n",
            "Epoch 3/100\n",
            "\u001b[1m625/625\u001b[0m \u001b[32m━━━━━━━━━━━━━━━━━━━━\u001b[0m\u001b[37m\u001b[0m \u001b[1m0s\u001b[0m 86ms/step - accuracy: 0.8407 - loss: 1.0100 - perplexity: 2.7510✅ Model and Tokenizer saved after epoch 3 at /content/drive/MyDrive/chatbot/BiLstm/skyrim_chatbot_latest.keras and /content/drive/MyDrive/chatbot/BiLstm/tokenizer.pkl\n",
            "\u001b[1m625/625\u001b[0m \u001b[32m━━━━━━━━━━━━━━━━━━━━\u001b[0m\u001b[37m\u001b[0m \u001b[1m84s\u001b[0m 105ms/step - accuracy: 0.8407 - loss: 1.0100 - perplexity: 2.7509 - val_accuracy: 0.8413 - val_loss: 0.9689 - val_perplexity: 2.6391\n",
            "Epoch 4/100\n",
            "\u001b[1m625/625\u001b[0m \u001b[32m━━━━━━━━━━━━━━━━━━━━\u001b[0m\u001b[37m\u001b[0m \u001b[1m0s\u001b[0m 87ms/step - accuracy: 0.8420 - loss: 0.9473 - perplexity: 2.5835✅ Model and Tokenizer saved after epoch 4 at /content/drive/MyDrive/chatbot/BiLstm/skyrim_chatbot_latest.keras and /content/drive/MyDrive/chatbot/BiLstm/tokenizer.pkl\n",
            "\u001b[1m625/625\u001b[0m \u001b[32m━━━━━━━━━━━━━━━━━━━━\u001b[0m\u001b[37m\u001b[0m \u001b[1m64s\u001b[0m 102ms/step - accuracy: 0.8420 - loss: 0.9473 - perplexity: 2.5834 - val_accuracy: 0.8429 - val_loss: 0.9187 - val_perplexity: 2.5099\n",
            "Epoch 5/100\n",
            "\u001b[1m625/625\u001b[0m \u001b[32m━━━━━━━━━━━━━━━━━━━━\u001b[0m\u001b[37m\u001b[0m \u001b[1m0s\u001b[0m 87ms/step - accuracy: 0.8447 - loss: 0.8849 - perplexity: 2.4269✅ Model and Tokenizer saved after epoch 5 at /content/drive/MyDrive/chatbot/BiLstm/skyrim_chatbot_latest.keras and /content/drive/MyDrive/chatbot/BiLstm/tokenizer.pkl\n",
            "\u001b[1m625/625\u001b[0m \u001b[32m━━━━━━━━━━━━━━━━━━━━\u001b[0m\u001b[37m\u001b[0m \u001b[1m65s\u001b[0m 104ms/step - accuracy: 0.8447 - loss: 0.8849 - perplexity: 2.4269 - val_accuracy: 0.8457 - val_loss: 0.8628 - val_perplexity: 2.3728\n",
            "Epoch 6/100\n",
            "\u001b[1m625/625\u001b[0m \u001b[32m━━━━━━━━━━━━━━━━━━━━\u001b[0m\u001b[37m\u001b[0m \u001b[1m0s\u001b[0m 86ms/step - accuracy: 0.8476 - loss: 0.8289 - perplexity: 2.2942✅ Model and Tokenizer saved after epoch 6 at /content/drive/MyDrive/chatbot/BiLstm/skyrim_chatbot_latest.keras and /content/drive/MyDrive/chatbot/BiLstm/tokenizer.pkl\n",
            "\u001b[1m625/625\u001b[0m \u001b[32m━━━━━━━━━━━━━━━━━━━━\u001b[0m\u001b[37m\u001b[0m \u001b[1m81s\u001b[0m 103ms/step - accuracy: 0.8476 - loss: 0.8289 - perplexity: 2.2942 - val_accuracy: 0.8496 - val_loss: 0.8083 - val_perplexity: 2.2465\n",
            "Epoch 7/100\n",
            "\u001b[1m625/625\u001b[0m \u001b[32m━━━━━━━━━━━━━━━━━━━━\u001b[0m\u001b[37m\u001b[0m \u001b[1m0s\u001b[0m 87ms/step - accuracy: 0.8524 - loss: 0.7682 - perplexity: 2.1590✅ Model and Tokenizer saved after epoch 7 at /content/drive/MyDrive/chatbot/BiLstm/skyrim_chatbot_latest.keras and /content/drive/MyDrive/chatbot/BiLstm/tokenizer.pkl\n",
            "\u001b[1m625/625\u001b[0m \u001b[32m━━━━━━━━━━━━━━━━━━━━\u001b[0m\u001b[37m\u001b[0m \u001b[1m67s\u001b[0m 107ms/step - accuracy: 0.8524 - loss: 0.7682 - perplexity: 2.1590 - val_accuracy: 0.8537 - val_loss: 0.7573 - val_perplexity: 2.1353\n",
            "Epoch 8/100\n",
            "\u001b[1m625/625\u001b[0m \u001b[32m━━━━━━━━━━━━━━━━━━━━\u001b[0m\u001b[37m\u001b[0m \u001b[1m0s\u001b[0m 87ms/step - accuracy: 0.8575 - loss: 0.7157 - perplexity: 2.0488✅ Model and Tokenizer saved after epoch 8 at /content/drive/MyDrive/chatbot/BiLstm/skyrim_chatbot_latest.keras and /content/drive/MyDrive/chatbot/BiLstm/tokenizer.pkl\n",
            "\u001b[1m625/625\u001b[0m \u001b[32m━━━━━━━━━━━━━━━━━━━━\u001b[0m\u001b[37m\u001b[0m \u001b[1m64s\u001b[0m 102ms/step - accuracy: 0.8575 - loss: 0.7157 - perplexity: 2.0488 - val_accuracy: 0.8589 - val_loss: 0.7088 - val_perplexity: 2.0339\n",
            "Epoch 9/100\n",
            "\u001b[1m625/625\u001b[0m \u001b[32m━━━━━━━━━━━━━━━━━━━━\u001b[0m\u001b[37m\u001b[0m \u001b[1m0s\u001b[0m 86ms/step - accuracy: 0.8627 - loss: 0.6702 - perplexity: 1.9577✅ Model and Tokenizer saved after epoch 9 at /content/drive/MyDrive/chatbot/BiLstm/skyrim_chatbot_latest.keras and /content/drive/MyDrive/chatbot/BiLstm/tokenizer.pkl\n",
            "\u001b[1m625/625\u001b[0m \u001b[32m━━━━━━━━━━━━━━━━━━━━\u001b[0m\u001b[37m\u001b[0m \u001b[1m86s\u001b[0m 108ms/step - accuracy: 0.8627 - loss: 0.6702 - perplexity: 1.9577 - val_accuracy: 0.8645 - val_loss: 0.6654 - val_perplexity: 1.9472\n",
            "Epoch 10/100\n",
            "\u001b[1m625/625\u001b[0m \u001b[32m━━━━━━━━━━━━━━━━━━━━\u001b[0m\u001b[37m\u001b[0m \u001b[1m0s\u001b[0m 86ms/step - accuracy: 0.8692 - loss: 0.6192 - perplexity: 1.8600✅ Model and Tokenizer saved after epoch 10 at /content/drive/MyDrive/chatbot/BiLstm/skyrim_chatbot_latest.keras and /content/drive/MyDrive/chatbot/BiLstm/tokenizer.pkl\n",
            "\u001b[1m625/625\u001b[0m \u001b[32m━━━━━━━━━━━━━━━━━━━━\u001b[0m\u001b[37m\u001b[0m \u001b[1m80s\u001b[0m 105ms/step - accuracy: 0.8692 - loss: 0.6192 - perplexity: 1.8600 - val_accuracy: 0.8695 - val_loss: 0.6260 - val_perplexity: 1.8721\n",
            "Epoch 11/100\n",
            "\u001b[1m625/625\u001b[0m \u001b[32m━━━━━━━━━━━━━━━━━━━━\u001b[0m\u001b[37m\u001b[0m \u001b[1m0s\u001b[0m 86ms/step - accuracy: 0.8748 - loss: 0.5837 - perplexity: 1.7951✅ Model and Tokenizer saved after epoch 11 at /content/drive/MyDrive/chatbot/BiLstm/skyrim_chatbot_latest.keras and /content/drive/MyDrive/chatbot/BiLstm/tokenizer.pkl\n",
            "\u001b[1m625/625\u001b[0m \u001b[32m━━━━━━━━━━━━━━━━━━━━\u001b[0m\u001b[37m\u001b[0m \u001b[1m82s\u001b[0m 105ms/step - accuracy: 0.8748 - loss: 0.5837 - perplexity: 1.7951 - val_accuracy: 0.8741 - val_loss: 0.5920 - val_perplexity: 1.8094\n",
            "Epoch 12/100\n",
            "\u001b[1m625/625\u001b[0m \u001b[32m━━━━━━━━━━━━━━━━━━━━\u001b[0m\u001b[37m\u001b[0m \u001b[1m0s\u001b[0m 86ms/step - accuracy: 0.8791 - loss: 0.5566 - perplexity: 1.7470✅ Model and Tokenizer saved after epoch 12 at /content/drive/MyDrive/chatbot/BiLstm/skyrim_chatbot_latest.keras and /content/drive/MyDrive/chatbot/BiLstm/tokenizer.pkl\n",
            "\u001b[1m625/625\u001b[0m \u001b[32m━━━━━━━━━━━━━━━━━━━━\u001b[0m\u001b[37m\u001b[0m \u001b[1m79s\u001b[0m 101ms/step - accuracy: 0.8791 - loss: 0.5566 - perplexity: 1.7469 - val_accuracy: 0.8784 - val_loss: 0.5641 - val_perplexity: 1.7596\n",
            "Epoch 13/100\n",
            "\u001b[1m625/625\u001b[0m \u001b[32m━━━━━━━━━━━━━━━━━━━━\u001b[0m\u001b[37m\u001b[0m \u001b[1m0s\u001b[0m 87ms/step - accuracy: 0.8844 - loss: 0.5221 - perplexity: 1.6877✅ Model and Tokenizer saved after epoch 13 at /content/drive/MyDrive/chatbot/BiLstm/skyrim_chatbot_latest.keras and /content/drive/MyDrive/chatbot/BiLstm/tokenizer.pkl\n",
            "\u001b[1m625/625\u001b[0m \u001b[32m━━━━━━━━━━━━━━━━━━━━\u001b[0m\u001b[37m\u001b[0m \u001b[1m84s\u001b[0m 105ms/step - accuracy: 0.8844 - loss: 0.5221 - perplexity: 1.6877 - val_accuracy: 0.8823 - val_loss: 0.5419 - val_perplexity: 1.7211\n",
            "Epoch 14/100\n",
            "\u001b[1m625/625\u001b[0m \u001b[32m━━━━━━━━━━━━━━━━━━━━\u001b[0m\u001b[37m\u001b[0m \u001b[1m0s\u001b[0m 87ms/step - accuracy: 0.8884 - loss: 0.4993 - perplexity: 1.6498✅ Model and Tokenizer saved after epoch 14 at /content/drive/MyDrive/chatbot/BiLstm/skyrim_chatbot_latest.keras and /content/drive/MyDrive/chatbot/BiLstm/tokenizer.pkl\n",
            "\u001b[1m625/625\u001b[0m \u001b[32m━━━━━━━━━━━━━━━━━━━━\u001b[0m\u001b[37m\u001b[0m \u001b[1m80s\u001b[0m 101ms/step - accuracy: 0.8884 - loss: 0.4993 - perplexity: 1.6498 - val_accuracy: 0.8857 - val_loss: 0.5223 - val_perplexity: 1.6876\n",
            "Epoch 15/100\n",
            "\u001b[1m625/625\u001b[0m \u001b[32m━━━━━━━━━━━━━━━━━━━━\u001b[0m\u001b[37m\u001b[0m \u001b[1m0s\u001b[0m 86ms/step - accuracy: 0.8918 - loss: 0.4811 - perplexity: 1.6198✅ Model and Tokenizer saved after epoch 15 at /content/drive/MyDrive/chatbot/BiLstm/skyrim_chatbot_latest.keras and /content/drive/MyDrive/chatbot/BiLstm/tokenizer.pkl\n",
            "\u001b[1m625/625\u001b[0m \u001b[32m━━━━━━━━━━━━━━━━━━━━\u001b[0m\u001b[37m\u001b[0m \u001b[1m82s\u001b[0m 102ms/step - accuracy: 0.8918 - loss: 0.4811 - perplexity: 1.6198 - val_accuracy: 0.8886 - val_loss: 0.5047 - val_perplexity: 1.6580\n",
            "Epoch 16/100\n",
            "\u001b[1m625/625\u001b[0m \u001b[32m━━━━━━━━━━━━━━━━━━━━\u001b[0m\u001b[37m\u001b[0m \u001b[1m0s\u001b[0m 86ms/step - accuracy: 0.8949 - loss: 0.4646 - perplexity: 1.5934✅ Model and Tokenizer saved after epoch 16 at /content/drive/MyDrive/chatbot/BiLstm/skyrim_chatbot_latest.keras and /content/drive/MyDrive/chatbot/BiLstm/tokenizer.pkl\n",
            "\u001b[1m625/625\u001b[0m \u001b[32m━━━━━━━━━━━━━━━━━━━━\u001b[0m\u001b[37m\u001b[0m \u001b[1m82s\u001b[0m 101ms/step - accuracy: 0.8949 - loss: 0.4646 - perplexity: 1.5934 - val_accuracy: 0.8918 - val_loss: 0.4898 - val_perplexity: 1.6336\n",
            "Epoch 17/100\n",
            "\u001b[1m625/625\u001b[0m \u001b[32m━━━━━━━━━━━━━━━━━━━━\u001b[0m\u001b[37m\u001b[0m \u001b[1m0s\u001b[0m 87ms/step - accuracy: 0.8973 - loss: 0.4500 - perplexity: 1.5704✅ Model and Tokenizer saved after epoch 17 at /content/drive/MyDrive/chatbot/BiLstm/skyrim_chatbot_latest.keras and /content/drive/MyDrive/chatbot/BiLstm/tokenizer.pkl\n",
            "\u001b[1m625/625\u001b[0m \u001b[32m━━━━━━━━━━━━━━━━━━━━\u001b[0m\u001b[37m\u001b[0m \u001b[1m82s\u001b[0m 101ms/step - accuracy: 0.8973 - loss: 0.4500 - perplexity: 1.5704 - val_accuracy: 0.8940 - val_loss: 0.4786 - val_perplexity: 1.6157\n",
            "Epoch 18/100\n",
            "\u001b[1m625/625\u001b[0m \u001b[32m━━━━━━━━━━━━━━━━━━━━\u001b[0m\u001b[37m\u001b[0m \u001b[1m0s\u001b[0m 86ms/step - accuracy: 0.9008 - loss: 0.4347 - perplexity: 1.5466✅ Model and Tokenizer saved after epoch 18 at /content/drive/MyDrive/chatbot/BiLstm/skyrim_chatbot_latest.keras and /content/drive/MyDrive/chatbot/BiLstm/tokenizer.pkl\n",
            "\u001b[1m625/625\u001b[0m \u001b[32m━━━━━━━━━━━━━━━━━━━━\u001b[0m\u001b[37m\u001b[0m \u001b[1m82s\u001b[0m 101ms/step - accuracy: 0.9008 - loss: 0.4347 - perplexity: 1.5466 - val_accuracy: 0.8957 - val_loss: 0.4685 - val_perplexity: 1.5992\n",
            "Epoch 19/100\n",
            "\u001b[1m625/625\u001b[0m \u001b[32m━━━━━━━━━━━━━━━━━━━━\u001b[0m\u001b[37m\u001b[0m \u001b[1m0s\u001b[0m 87ms/step - accuracy: 0.9016 - loss: 0.4300 - perplexity: 1.5395✅ Model and Tokenizer saved after epoch 19 at /content/drive/MyDrive/chatbot/BiLstm/skyrim_chatbot_latest.keras and /content/drive/MyDrive/chatbot/BiLstm/tokenizer.pkl\n",
            "\u001b[1m625/625\u001b[0m \u001b[32m━━━━━━━━━━━━━━━━━━━━\u001b[0m\u001b[37m\u001b[0m \u001b[1m85s\u001b[0m 105ms/step - accuracy: 0.9016 - loss: 0.4300 - perplexity: 1.5395 - val_accuracy: 0.8979 - val_loss: 0.4585 - val_perplexity: 1.5832\n",
            "Epoch 20/100\n",
            "\u001b[1m625/625\u001b[0m \u001b[32m━━━━━━━━━━━━━━━━━━━━\u001b[0m\u001b[37m\u001b[0m \u001b[1m0s\u001b[0m 87ms/step - accuracy: 0.9051 - loss: 0.4146 - perplexity: 1.5155✅ Model and Tokenizer saved after epoch 20 at /content/drive/MyDrive/chatbot/BiLstm/skyrim_chatbot_latest.keras and /content/drive/MyDrive/chatbot/BiLstm/tokenizer.pkl\n",
            "\u001b[1m625/625\u001b[0m \u001b[32m━━━━━━━━━━━━━━━━━━━━\u001b[0m\u001b[37m\u001b[0m \u001b[1m82s\u001b[0m 106ms/step - accuracy: 0.9051 - loss: 0.4146 - perplexity: 1.5155 - val_accuracy: 0.8989 - val_loss: 0.4528 - val_perplexity: 1.5743\n",
            "Epoch 21/100\n",
            "\u001b[1m625/625\u001b[0m \u001b[32m━━━━━━━━━━━━━━━━━━━━\u001b[0m\u001b[37m\u001b[0m \u001b[1m0s\u001b[0m 87ms/step - accuracy: 0.9068 - loss: 0.4067 - perplexity: 1.5036✅ Model and Tokenizer saved after epoch 21 at /content/drive/MyDrive/chatbot/BiLstm/skyrim_chatbot_latest.keras and /content/drive/MyDrive/chatbot/BiLstm/tokenizer.pkl\n",
            "\u001b[1m625/625\u001b[0m \u001b[32m━━━━━━━━━━━━━━━━━━━━\u001b[0m\u001b[37m\u001b[0m \u001b[1m82s\u001b[0m 106ms/step - accuracy: 0.9068 - loss: 0.4067 - perplexity: 1.5036 - val_accuracy: 0.9008 - val_loss: 0.4463 - val_perplexity: 1.5642\n",
            "Epoch 22/100\n",
            "\u001b[1m625/625\u001b[0m \u001b[32m━━━━━━━━━━━━━━━━━━━━\u001b[0m\u001b[37m\u001b[0m \u001b[1m0s\u001b[0m 87ms/step - accuracy: 0.9081 - loss: 0.3989 - perplexity: 1.4922✅ Model and Tokenizer saved after epoch 22 at /content/drive/MyDrive/chatbot/BiLstm/skyrim_chatbot_latest.keras and /content/drive/MyDrive/chatbot/BiLstm/tokenizer.pkl\n",
            "\u001b[1m625/625\u001b[0m \u001b[32m━━━━━━━━━━━━━━━━━━━━\u001b[0m\u001b[37m\u001b[0m \u001b[1m84s\u001b[0m 109ms/step - accuracy: 0.9081 - loss: 0.3989 - perplexity: 1.4922 - val_accuracy: 0.9021 - val_loss: 0.4401 - val_perplexity: 1.5544\n",
            "Epoch 23/100\n",
            "\u001b[1m625/625\u001b[0m \u001b[32m━━━━━━━━━━━━━━━━━━━━\u001b[0m\u001b[37m\u001b[0m \u001b[1m0s\u001b[0m 88ms/step - accuracy: 0.9107 - loss: 0.3900 - perplexity: 1.4789✅ Model and Tokenizer saved after epoch 23 at /content/drive/MyDrive/chatbot/BiLstm/skyrim_chatbot_latest.keras and /content/drive/MyDrive/chatbot/BiLstm/tokenizer.pkl\n",
            "\u001b[1m625/625\u001b[0m \u001b[32m━━━━━━━━━━━━━━━━━━━━\u001b[0m\u001b[37m\u001b[0m \u001b[1m68s\u001b[0m 108ms/step - accuracy: 0.9106 - loss: 0.3900 - perplexity: 1.4789 - val_accuracy: 0.9033 - val_loss: 0.4346 - val_perplexity: 1.5460\n",
            "Epoch 24/100\n",
            "\u001b[1m625/625\u001b[0m \u001b[32m━━━━━━━━━━━━━━━━━━━━\u001b[0m\u001b[37m\u001b[0m \u001b[1m0s\u001b[0m 87ms/step - accuracy: 0.9121 - loss: 0.3805 - perplexity: 1.4651✅ Model and Tokenizer saved after epoch 24 at /content/drive/MyDrive/chatbot/BiLstm/skyrim_chatbot_latest.keras and /content/drive/MyDrive/chatbot/BiLstm/tokenizer.pkl\n",
            "\u001b[1m625/625\u001b[0m \u001b[32m━━━━━━━━━━━━━━━━━━━━\u001b[0m\u001b[37m\u001b[0m \u001b[1m80s\u001b[0m 105ms/step - accuracy: 0.9121 - loss: 0.3805 - perplexity: 1.4651 - val_accuracy: 0.9041 - val_loss: 0.4333 - val_perplexity: 1.5439\n",
            "Epoch 25/100\n",
            "\u001b[1m625/625\u001b[0m \u001b[32m━━━━━━━━━━━━━━━━━━━━\u001b[0m\u001b[37m\u001b[0m \u001b[1m0s\u001b[0m 87ms/step - accuracy: 0.9125 - loss: 0.3802 - perplexity: 1.4641✅ Model and Tokenizer saved after epoch 25 at /content/drive/MyDrive/chatbot/BiLstm/skyrim_chatbot_latest.keras and /content/drive/MyDrive/chatbot/BiLstm/tokenizer.pkl\n",
            "\u001b[1m625/625\u001b[0m \u001b[32m━━━━━━━━━━━━━━━━━━━━\u001b[0m\u001b[37m\u001b[0m \u001b[1m84s\u001b[0m 108ms/step - accuracy: 0.9125 - loss: 0.3802 - perplexity: 1.4641 - val_accuracy: 0.9049 - val_loss: 0.4274 - val_perplexity: 1.5346\n",
            "Epoch 26/100\n",
            "\u001b[1m625/625\u001b[0m \u001b[32m━━━━━━━━━━━━━━━━━━━━\u001b[0m\u001b[37m\u001b[0m \u001b[1m0s\u001b[0m 86ms/step - accuracy: 0.9149 - loss: 0.3693 - perplexity: 1.4487✅ Model and Tokenizer saved after epoch 26 at /content/drive/MyDrive/chatbot/BiLstm/skyrim_chatbot_latest.keras and /content/drive/MyDrive/chatbot/BiLstm/tokenizer.pkl\n",
            "\u001b[1m625/625\u001b[0m \u001b[32m━━━━━━━━━━━━━━━━━━━━\u001b[0m\u001b[37m\u001b[0m \u001b[1m77s\u001b[0m 100ms/step - accuracy: 0.9149 - loss: 0.3693 - perplexity: 1.4487 - val_accuracy: 0.9059 - val_loss: 0.4264 - val_perplexity: 1.5334\n",
            "Epoch 27/100\n",
            "\u001b[1m625/625\u001b[0m \u001b[32m━━━━━━━━━━━━━━━━━━━━\u001b[0m\u001b[37m\u001b[0m \u001b[1m0s\u001b[0m 85ms/step - accuracy: 0.9158 - loss: 0.3639 - perplexity: 1.4406✅ Model and Tokenizer saved after epoch 27 at /content/drive/MyDrive/chatbot/BiLstm/skyrim_chatbot_latest.keras and /content/drive/MyDrive/chatbot/BiLstm/tokenizer.pkl\n",
            "\u001b[1m625/625\u001b[0m \u001b[32m━━━━━━━━━━━━━━━━━━━━\u001b[0m\u001b[37m\u001b[0m \u001b[1m85s\u001b[0m 105ms/step - accuracy: 0.9158 - loss: 0.3640 - perplexity: 1.4407 - val_accuracy: 0.9064 - val_loss: 0.4239 - val_perplexity: 1.5295\n",
            "Epoch 28/100\n",
            "\u001b[1m625/625\u001b[0m \u001b[32m━━━━━━━━━━━━━━━━━━━━\u001b[0m\u001b[37m\u001b[0m \u001b[1m0s\u001b[0m 86ms/step - accuracy: 0.9162 - loss: 0.3647 - perplexity: 1.4423✅ Model and Tokenizer saved after epoch 28 at /content/drive/MyDrive/chatbot/BiLstm/skyrim_chatbot_latest.keras and /content/drive/MyDrive/chatbot/BiLstm/tokenizer.pkl\n",
            "\u001b[1m625/625\u001b[0m \u001b[32m━━━━━━━━━━━━━━━━━━━━\u001b[0m\u001b[37m\u001b[0m \u001b[1m80s\u001b[0m 102ms/step - accuracy: 0.9162 - loss: 0.3647 - perplexity: 1.4423 - val_accuracy: 0.9074 - val_loss: 0.4197 - val_perplexity: 1.5231\n",
            "Epoch 29/100\n",
            "\u001b[1m625/625\u001b[0m \u001b[32m━━━━━━━━━━━━━━━━━━━━\u001b[0m\u001b[37m\u001b[0m \u001b[1m0s\u001b[0m 85ms/step - accuracy: 0.9179 - loss: 0.3557 - perplexity: 1.4290✅ Model and Tokenizer saved after epoch 29 at /content/drive/MyDrive/chatbot/BiLstm/skyrim_chatbot_latest.keras and /content/drive/MyDrive/chatbot/BiLstm/tokenizer.pkl\n",
            "\u001b[1m625/625\u001b[0m \u001b[32m━━━━━━━━━━━━━━━━━━━━\u001b[0m\u001b[37m\u001b[0m \u001b[1m81s\u001b[0m 102ms/step - accuracy: 0.9179 - loss: 0.3557 - perplexity: 1.4291 - val_accuracy: 0.9080 - val_loss: 0.4179 - val_perplexity: 1.5204\n",
            "Epoch 30/100\n",
            "\u001b[1m625/625\u001b[0m \u001b[32m━━━━━━━━━━━━━━━━━━━━\u001b[0m\u001b[37m\u001b[0m \u001b[1m0s\u001b[0m 86ms/step - accuracy: 0.9184 - loss: 0.3527 - perplexity: 1.4245✅ Model and Tokenizer saved after epoch 30 at /content/drive/MyDrive/chatbot/BiLstm/skyrim_chatbot_latest.keras and /content/drive/MyDrive/chatbot/BiLstm/tokenizer.pkl\n",
            "\u001b[1m625/625\u001b[0m \u001b[32m━━━━━━━━━━━━━━━━━━━━\u001b[0m\u001b[37m\u001b[0m \u001b[1m84s\u001b[0m 105ms/step - accuracy: 0.9184 - loss: 0.3527 - perplexity: 1.4245 - val_accuracy: 0.9085 - val_loss: 0.4172 - val_perplexity: 1.5194\n",
            "Epoch 31/100\n",
            "\u001b[1m625/625\u001b[0m \u001b[32m━━━━━━━━━━━━━━━━━━━━\u001b[0m\u001b[37m\u001b[0m \u001b[1m0s\u001b[0m 86ms/step - accuracy: 0.9174 - loss: 0.3581 - perplexity: 1.4322✅ Model and Tokenizer saved after epoch 31 at /content/drive/MyDrive/chatbot/BiLstm/skyrim_chatbot_latest.keras and /content/drive/MyDrive/chatbot/BiLstm/tokenizer.pkl\n",
            "\u001b[1m625/625\u001b[0m \u001b[32m━━━━━━━━━━━━━━━━━━━━\u001b[0m\u001b[37m\u001b[0m \u001b[1m77s\u001b[0m 97ms/step - accuracy: 0.9174 - loss: 0.3581 - perplexity: 1.4322 - val_accuracy: 0.9087 - val_loss: 0.4175 - val_perplexity: 1.5199\n",
            "Epoch 32/100\n",
            "\u001b[1m625/625\u001b[0m \u001b[32m━━━━━━━━━━━━━━━━━━━━\u001b[0m\u001b[37m\u001b[0m \u001b[1m0s\u001b[0m 85ms/step - accuracy: 0.9190 - loss: 0.3518 - perplexity: 1.4232✅ Model and Tokenizer saved after epoch 32 at /content/drive/MyDrive/chatbot/BiLstm/skyrim_chatbot_latest.keras and /content/drive/MyDrive/chatbot/BiLstm/tokenizer.pkl\n",
            "\u001b[1m625/625\u001b[0m \u001b[32m━━━━━━━━━━━━━━━━━━━━\u001b[0m\u001b[37m\u001b[0m \u001b[1m83s\u001b[0m 98ms/step - accuracy: 0.9190 - loss: 0.3518 - perplexity: 1.4232 - val_accuracy: 0.9083 - val_loss: 0.4158 - val_perplexity: 1.5173\n",
            "Epoch 33/100\n",
            "\u001b[1m625/625\u001b[0m \u001b[32m━━━━━━━━━━━━━━━━━━━━\u001b[0m\u001b[37m\u001b[0m \u001b[1m0s\u001b[0m 86ms/step - accuracy: 0.9201 - loss: 0.3464 - perplexity: 1.4158✅ Model and Tokenizer saved after epoch 33 at /content/drive/MyDrive/chatbot/BiLstm/skyrim_chatbot_latest.keras and /content/drive/MyDrive/chatbot/BiLstm/tokenizer.pkl\n",
            "\u001b[1m625/625\u001b[0m \u001b[32m━━━━━━━━━━━━━━━━━━━━\u001b[0m\u001b[37m\u001b[0m \u001b[1m63s\u001b[0m 100ms/step - accuracy: 0.9201 - loss: 0.3464 - perplexity: 1.4158 - val_accuracy: 0.9095 - val_loss: 0.4134 - val_perplexity: 1.5135\n",
            "Epoch 34/100\n",
            "\u001b[1m625/625\u001b[0m \u001b[32m━━━━━━━━━━━━━━━━━━━━\u001b[0m\u001b[37m\u001b[0m \u001b[1m0s\u001b[0m 86ms/step - accuracy: 0.9202 - loss: 0.3472 - perplexity: 1.4167✅ Model and Tokenizer saved after epoch 34 at /content/drive/MyDrive/chatbot/BiLstm/skyrim_chatbot_latest.keras and /content/drive/MyDrive/chatbot/BiLstm/tokenizer.pkl\n",
            "\u001b[1m625/625\u001b[0m \u001b[32m━━━━━━━━━━━━━━━━━━━━\u001b[0m\u001b[37m\u001b[0m \u001b[1m61s\u001b[0m 97ms/step - accuracy: 0.9202 - loss: 0.3472 - perplexity: 1.4167 - val_accuracy: 0.9095 - val_loss: 0.4136 - val_perplexity: 1.5140\n",
            "Epoch 35/100\n",
            "\u001b[1m625/625\u001b[0m \u001b[32m━━━━━━━━━━━━━━━━━━━━\u001b[0m\u001b[37m\u001b[0m \u001b[1m0s\u001b[0m 85ms/step - accuracy: 0.9205 - loss: 0.3463 - perplexity: 1.4157✅ Model and Tokenizer saved after epoch 35 at /content/drive/MyDrive/chatbot/BiLstm/skyrim_chatbot_latest.keras and /content/drive/MyDrive/chatbot/BiLstm/tokenizer.pkl\n",
            "\u001b[1m625/625\u001b[0m \u001b[32m━━━━━━━━━━━━━━━━━━━━\u001b[0m\u001b[37m\u001b[0m \u001b[1m83s\u001b[0m 99ms/step - accuracy: 0.9205 - loss: 0.3463 - perplexity: 1.4157 - val_accuracy: 0.9098 - val_loss: 0.4138 - val_perplexity: 1.5143\n",
            "Epoch 36/100\n",
            "\u001b[1m625/625\u001b[0m \u001b[32m━━━━━━━━━━━━━━━━━━━━\u001b[0m\u001b[37m\u001b[0m \u001b[1m0s\u001b[0m 85ms/step - accuracy: 0.9214 - loss: 0.3396 - perplexity: 1.4061✅ Model and Tokenizer saved after epoch 36 at /content/drive/MyDrive/chatbot/BiLstm/skyrim_chatbot_latest.keras and /content/drive/MyDrive/chatbot/BiLstm/tokenizer.pkl\n",
            "\u001b[1m625/625\u001b[0m \u001b[32m━━━━━━━━━━━━━━━━━━━━\u001b[0m\u001b[37m\u001b[0m \u001b[1m66s\u001b[0m 105ms/step - accuracy: 0.9214 - loss: 0.3396 - perplexity: 1.4061 - val_accuracy: 0.9103 - val_loss: 0.4124 - val_perplexity: 1.5123\n",
            "Epoch 37/100\n",
            "\u001b[1m625/625\u001b[0m \u001b[32m━━━━━━━━━━━━━━━━━━━━\u001b[0m\u001b[37m\u001b[0m \u001b[1m0s\u001b[0m 86ms/step - accuracy: 0.9214 - loss: 0.3394 - perplexity: 1.4055✅ Model and Tokenizer saved after epoch 37 at /content/drive/MyDrive/chatbot/BiLstm/skyrim_chatbot_latest.keras and /content/drive/MyDrive/chatbot/BiLstm/tokenizer.pkl\n",
            "\u001b[1m625/625\u001b[0m \u001b[32m━━━━━━━━━━━━━━━━━━━━\u001b[0m\u001b[37m\u001b[0m \u001b[1m82s\u001b[0m 106ms/step - accuracy: 0.9214 - loss: 0.3394 - perplexity: 1.4055 - val_accuracy: 0.9103 - val_loss: 0.4110 - val_perplexity: 1.5101\n",
            "Epoch 38/100\n",
            "\u001b[1m625/625\u001b[0m \u001b[32m━━━━━━━━━━━━━━━━━━━━\u001b[0m\u001b[37m\u001b[0m \u001b[1m0s\u001b[0m 85ms/step - accuracy: 0.9225 - loss: 0.3362 - perplexity: 1.4010✅ Model and Tokenizer saved after epoch 38 at /content/drive/MyDrive/chatbot/BiLstm/skyrim_chatbot_latest.keras and /content/drive/MyDrive/chatbot/BiLstm/tokenizer.pkl\n",
            "\u001b[1m625/625\u001b[0m \u001b[32m━━━━━━━━━━━━━━━━━━━━\u001b[0m\u001b[37m\u001b[0m \u001b[1m76s\u001b[0m 97ms/step - accuracy: 0.9225 - loss: 0.3362 - perplexity: 1.4010 - val_accuracy: 0.9100 - val_loss: 0.4128 - val_perplexity: 1.5127\n",
            "Epoch 39/100\n",
            "\u001b[1m625/625\u001b[0m \u001b[32m━━━━━━━━━━━━━━━━━━━━\u001b[0m\u001b[37m\u001b[0m \u001b[1m0s\u001b[0m 85ms/step - accuracy: 0.9231 - loss: 0.3320 - perplexity: 1.3956✅ Model and Tokenizer saved after epoch 39 at /content/drive/MyDrive/chatbot/BiLstm/skyrim_chatbot_latest.keras and /content/drive/MyDrive/chatbot/BiLstm/tokenizer.pkl\n",
            "\u001b[1m625/625\u001b[0m \u001b[32m━━━━━━━━━━━━━━━━━━━━\u001b[0m\u001b[37m\u001b[0m \u001b[1m81s\u001b[0m 96ms/step - accuracy: 0.9231 - loss: 0.3321 - perplexity: 1.3957 - val_accuracy: 0.9105 - val_loss: 0.4111 - val_perplexity: 1.5104\n",
            "Epoch 40/100\n",
            "\u001b[1m625/625\u001b[0m \u001b[32m━━━━━━━━━━━━━━━━━━━━\u001b[0m\u001b[37m\u001b[0m \u001b[1m0s\u001b[0m 85ms/step - accuracy: 0.9220 - loss: 0.3380 - perplexity: 1.4036✅ Model and Tokenizer saved after epoch 40 at /content/drive/MyDrive/chatbot/BiLstm/skyrim_chatbot_latest.keras and /content/drive/MyDrive/chatbot/BiLstm/tokenizer.pkl\n",
            "\u001b[1m625/625\u001b[0m \u001b[32m━━━━━━━━━━━━━━━━━━━━\u001b[0m\u001b[37m\u001b[0m \u001b[1m82s\u001b[0m 96ms/step - accuracy: 0.9220 - loss: 0.3380 - perplexity: 1.4036 - val_accuracy: 0.9103 - val_loss: 0.4117 - val_perplexity: 1.5115\n",
            "Epoch 41/100\n",
            "\u001b[1m625/625\u001b[0m \u001b[32m━━━━━━━━━━━━━━━━━━━━\u001b[0m\u001b[37m\u001b[0m \u001b[1m0s\u001b[0m 85ms/step - accuracy: 0.9223 - loss: 0.3348 - perplexity: 1.3999✅ Model and Tokenizer saved after epoch 41 at /content/drive/MyDrive/chatbot/BiLstm/skyrim_chatbot_latest.keras and /content/drive/MyDrive/chatbot/BiLstm/tokenizer.pkl\n",
            "\u001b[1m625/625\u001b[0m \u001b[32m━━━━━━━━━━━━━━━━━━━━\u001b[0m\u001b[37m\u001b[0m \u001b[1m82s\u001b[0m 96ms/step - accuracy: 0.9223 - loss: 0.3348 - perplexity: 1.3999 - val_accuracy: 0.9106 - val_loss: 0.4113 - val_perplexity: 1.5105\n",
            "Epoch 42/100\n",
            "\u001b[1m625/625\u001b[0m \u001b[32m━━━━━━━━━━━━━━━━━━━━\u001b[0m\u001b[37m\u001b[0m \u001b[1m0s\u001b[0m 85ms/step - accuracy: 0.9237 - loss: 0.3301 - perplexity: 1.3925✅ Model and Tokenizer saved after epoch 42 at /content/drive/MyDrive/chatbot/BiLstm/skyrim_chatbot_latest.keras and /content/drive/MyDrive/chatbot/BiLstm/tokenizer.pkl\n",
            "\u001b[1m625/625\u001b[0m \u001b[32m━━━━━━━━━━━━━━━━━━━━\u001b[0m\u001b[37m\u001b[0m \u001b[1m84s\u001b[0m 100ms/step - accuracy: 0.9237 - loss: 0.3301 - perplexity: 1.3925 - val_accuracy: 0.9110 - val_loss: 0.4106 - val_perplexity: 1.5098\n",
            "Epoch 43/100\n",
            "\u001b[1m625/625\u001b[0m \u001b[32m━━━━━━━━━━━━━━━━━━━━\u001b[0m\u001b[37m\u001b[0m \u001b[1m0s\u001b[0m 87ms/step - accuracy: 0.9232 - loss: 0.3310 - perplexity: 1.3940✅ Model and Tokenizer saved after epoch 43 at /content/drive/MyDrive/chatbot/BiLstm/skyrim_chatbot_latest.keras and /content/drive/MyDrive/chatbot/BiLstm/tokenizer.pkl\n",
            "\u001b[1m625/625\u001b[0m \u001b[32m━━━━━━━━━━━━━━━━━━━━\u001b[0m\u001b[37m\u001b[0m \u001b[1m64s\u001b[0m 102ms/step - accuracy: 0.9232 - loss: 0.3310 - perplexity: 1.3940 - val_accuracy: 0.9111 - val_loss: 0.4100 - val_perplexity: 1.5086\n",
            "Epoch 44/100\n",
            "\u001b[1m625/625\u001b[0m \u001b[32m━━━━━━━━━━━━━━━━━━━━\u001b[0m\u001b[37m\u001b[0m \u001b[1m0s\u001b[0m 87ms/step - accuracy: 0.9235 - loss: 0.3307 - perplexity: 1.3937✅ Model and Tokenizer saved after epoch 44 at /content/drive/MyDrive/chatbot/BiLstm/skyrim_chatbot_latest.keras and /content/drive/MyDrive/chatbot/BiLstm/tokenizer.pkl\n",
            "\u001b[1m625/625\u001b[0m \u001b[32m━━━━━━━━━━━━━━━━━━━━\u001b[0m\u001b[37m\u001b[0m \u001b[1m80s\u001b[0m 98ms/step - accuracy: 0.9235 - loss: 0.3307 - perplexity: 1.3938 - val_accuracy: 0.9111 - val_loss: 0.4104 - val_perplexity: 1.5092\n",
            "Epoch 45/100\n",
            "\u001b[1m625/625\u001b[0m \u001b[32m━━━━━━━━━━━━━━━━━━━━\u001b[0m\u001b[37m\u001b[0m \u001b[1m0s\u001b[0m 85ms/step - accuracy: 0.9226 - loss: 0.3336 - perplexity: 1.3976✅ Model and Tokenizer saved after epoch 45 at /content/drive/MyDrive/chatbot/BiLstm/skyrim_chatbot_latest.keras and /content/drive/MyDrive/chatbot/BiLstm/tokenizer.pkl\n",
            "\u001b[1m625/625\u001b[0m \u001b[32m━━━━━━━━━━━━━━━━━━━━\u001b[0m\u001b[37m\u001b[0m \u001b[1m86s\u001b[0m 105ms/step - accuracy: 0.9226 - loss: 0.3336 - perplexity: 1.3976 - val_accuracy: 0.9113 - val_loss: 0.4090 - val_perplexity: 1.5072\n",
            "Epoch 46/100\n",
            "\u001b[1m625/625\u001b[0m \u001b[32m━━━━━━━━━━━━━━━━━━━━\u001b[0m\u001b[37m\u001b[0m \u001b[1m0s\u001b[0m 87ms/step - accuracy: 0.9233 - loss: 0.3305 - perplexity: 1.3933✅ Model and Tokenizer saved after epoch 46 at /content/drive/MyDrive/chatbot/BiLstm/skyrim_chatbot_latest.keras and /content/drive/MyDrive/chatbot/BiLstm/tokenizer.pkl\n",
            "\u001b[1m625/625\u001b[0m \u001b[32m━━━━━━━━━━━━━━━━━━━━\u001b[0m\u001b[37m\u001b[0m \u001b[1m79s\u001b[0m 100ms/step - accuracy: 0.9233 - loss: 0.3305 - perplexity: 1.3933 - val_accuracy: 0.9113 - val_loss: 0.4074 - val_perplexity: 1.5047\n",
            "Epoch 47/100\n",
            "\u001b[1m625/625\u001b[0m \u001b[32m━━━━━━━━━━━━━━━━━━━━\u001b[0m\u001b[37m\u001b[0m \u001b[1m0s\u001b[0m 87ms/step - accuracy: 0.9241 - loss: 0.3268 - perplexity: 1.3881✅ Model and Tokenizer saved after epoch 47 at /content/drive/MyDrive/chatbot/BiLstm/skyrim_chatbot_latest.keras and /content/drive/MyDrive/chatbot/BiLstm/tokenizer.pkl\n",
            "\u001b[1m625/625\u001b[0m \u001b[32m━━━━━━━━━━━━━━━━━━━━\u001b[0m\u001b[37m\u001b[0m \u001b[1m61s\u001b[0m 98ms/step - accuracy: 0.9241 - loss: 0.3268 - perplexity: 1.3881 - val_accuracy: 0.9112 - val_loss: 0.4101 - val_perplexity: 1.5087\n",
            "Epoch 48/100\n",
            "\u001b[1m625/625\u001b[0m \u001b[32m━━━━━━━━━━━━━━━━━━━━\u001b[0m\u001b[37m\u001b[0m \u001b[1m0s\u001b[0m 85ms/step - accuracy: 0.9240 - loss: 0.3276 - perplexity: 1.3893✅ Model and Tokenizer saved after epoch 48 at /content/drive/MyDrive/chatbot/BiLstm/skyrim_chatbot_latest.keras and /content/drive/MyDrive/chatbot/BiLstm/tokenizer.pkl\n",
            "\u001b[1m625/625\u001b[0m \u001b[32m━━━━━━━━━━━━━━━━━━━━\u001b[0m\u001b[37m\u001b[0m \u001b[1m81s\u001b[0m 96ms/step - accuracy: 0.9240 - loss: 0.3276 - perplexity: 1.3893 - val_accuracy: 0.9111 - val_loss: 0.4101 - val_perplexity: 1.5091\n",
            "Epoch 49/100\n",
            "\u001b[1m625/625\u001b[0m \u001b[32m━━━━━━━━━━━━━━━━━━━━\u001b[0m\u001b[37m\u001b[0m \u001b[1m0s\u001b[0m 85ms/step - accuracy: 0.9240 - loss: 0.3266 - perplexity: 1.3881✅ Model and Tokenizer saved after epoch 49 at /content/drive/MyDrive/chatbot/BiLstm/skyrim_chatbot_latest.keras and /content/drive/MyDrive/chatbot/BiLstm/tokenizer.pkl\n",
            "\u001b[1m625/625\u001b[0m \u001b[32m━━━━━━━━━━━━━━━━━━━━\u001b[0m\u001b[37m\u001b[0m \u001b[1m82s\u001b[0m 96ms/step - accuracy: 0.9240 - loss: 0.3266 - perplexity: 1.3881 - val_accuracy: 0.9117 - val_loss: 0.4092 - val_perplexity: 1.5076\n",
            "Epoch 50/100\n",
            "\u001b[1m625/625\u001b[0m \u001b[32m━━━━━━━━━━━━━━━━━━━━\u001b[0m\u001b[37m\u001b[0m \u001b[1m0s\u001b[0m 85ms/step - accuracy: 0.9243 - loss: 0.3248 - perplexity: 1.3854✅ Model and Tokenizer saved after epoch 50 at /content/drive/MyDrive/chatbot/BiLstm/skyrim_chatbot_latest.keras and /content/drive/MyDrive/chatbot/BiLstm/tokenizer.pkl\n",
            "\u001b[1m625/625\u001b[0m \u001b[32m━━━━━━━━━━━━━━━━━━━━\u001b[0m\u001b[37m\u001b[0m \u001b[1m84s\u001b[0m 99ms/step - accuracy: 0.9243 - loss: 0.3248 - perplexity: 1.3854 - val_accuracy: 0.9113 - val_loss: 0.4080 - val_perplexity: 1.5058\n",
            "Epoch 51/100\n",
            "\u001b[1m625/625\u001b[0m \u001b[32m━━━━━━━━━━━━━━━━━━━━\u001b[0m\u001b[37m\u001b[0m \u001b[1m0s\u001b[0m 85ms/step - accuracy: 0.9246 - loss: 0.3232 - perplexity: 1.3830✅ Model and Tokenizer saved after epoch 51 at /content/drive/MyDrive/chatbot/BiLstm/skyrim_chatbot_latest.keras and /content/drive/MyDrive/chatbot/BiLstm/tokenizer.pkl\n",
            "\u001b[1m625/625\u001b[0m \u001b[32m━━━━━━━━━━━━━━━━━━━━\u001b[0m\u001b[37m\u001b[0m \u001b[1m80s\u001b[0m 95ms/step - accuracy: 0.9246 - loss: 0.3232 - perplexity: 1.3830 - val_accuracy: 0.9114 - val_loss: 0.4090 - val_perplexity: 1.5075\n",
            "Epoch 52/100\n",
            "\u001b[1m625/625\u001b[0m \u001b[32m━━━━━━━━━━━━━━━━━━━━\u001b[0m\u001b[37m\u001b[0m \u001b[1m0s\u001b[0m 85ms/step - accuracy: 0.9252 - loss: 0.3205 - perplexity: 1.3794✅ Model and Tokenizer saved after epoch 52 at /content/drive/MyDrive/chatbot/BiLstm/skyrim_chatbot_latest.keras and /content/drive/MyDrive/chatbot/BiLstm/tokenizer.pkl\n",
            "\u001b[1m625/625\u001b[0m \u001b[32m━━━━━━━━━━━━━━━━━━━━\u001b[0m\u001b[37m\u001b[0m \u001b[1m83s\u001b[0m 96ms/step - accuracy: 0.9252 - loss: 0.3205 - perplexity: 1.3794 - val_accuracy: 0.9117 - val_loss: 0.4099 - val_perplexity: 1.5087\n",
            "Epoch 53/100\n",
            "\u001b[1m625/625\u001b[0m \u001b[32m━━━━━━━━━━━━━━━━━━━━\u001b[0m\u001b[37m\u001b[0m \u001b[1m0s\u001b[0m 85ms/step - accuracy: 0.9255 - loss: 0.3209 - perplexity: 1.3800✅ Model and Tokenizer saved after epoch 53 at /content/drive/MyDrive/chatbot/BiLstm/skyrim_chatbot_latest.keras and /content/drive/MyDrive/chatbot/BiLstm/tokenizer.pkl\n",
            "\u001b[1m625/625\u001b[0m \u001b[32m━━━━━━━━━━━━━━━━━━━━\u001b[0m\u001b[37m\u001b[0m \u001b[1m60s\u001b[0m 96ms/step - accuracy: 0.9255 - loss: 0.3209 - perplexity: 1.3800 - val_accuracy: 0.9113 - val_loss: 0.4084 - val_perplexity: 1.5065\n",
            "Epoch 54/100\n",
            "\u001b[1m625/625\u001b[0m \u001b[32m━━━━━━━━━━━━━━━━━━━━\u001b[0m\u001b[37m\u001b[0m \u001b[1m0s\u001b[0m 85ms/step - accuracy: 0.9252 - loss: 0.3224 - perplexity: 1.3823✅ Model and Tokenizer saved after epoch 54 at /content/drive/MyDrive/chatbot/BiLstm/skyrim_chatbot_latest.keras and /content/drive/MyDrive/chatbot/BiLstm/tokenizer.pkl\n",
            "\u001b[1m625/625\u001b[0m \u001b[32m━━━━━━━━━━━━━━━━━━━━\u001b[0m\u001b[37m\u001b[0m \u001b[1m82s\u001b[0m 96ms/step - accuracy: 0.9252 - loss: 0.3224 - perplexity: 1.3823 - val_accuracy: 0.9117 - val_loss: 0.4094 - val_perplexity: 1.5079\n",
            "✅ Model training complete! Best model saved as /content/drive/MyDrive/chatbot/BiLstm/skyrim_chatbot_final.keras\n"
          ]
        }
      ],
      "source": [
        "callbacks = [\n",
        "    EarlyStopping(monitor='val_loss', patience=8, restore_best_weights=True),\n",
        "    ModelCheckpoint(os.path.join(drive_save_path, \"skyrim_chatbot_best.keras\"), save_best_only=True, save_weights_only=False),\n",
        "    SaveModelAndTokenizerCallback()\n",
        "]\n",
        "\n",
        "try:\n",
        "    epochs = 100\n",
        "    batch_size = 64\n",
        "\n",
        "    history = model.fit(\n",
        "        X_train, y_train,\n",
        "        epochs=epochs,\n",
        "        batch_size=batch_size,\n",
        "        validation_data=(X_val, y_val),\n",
        "        callbacks=callbacks\n",
        "    )\n",
        "\n",
        "\n",
        "    final_model_path = os.path.join(drive_save_path, \"skyrim_chatbot_final.keras\")\n",
        "    model.save(final_model_path)\n",
        "    print(f\"✅ Model training complete! Best model saved as {final_model_path}\")\n",
        "\n",
        "except KeyboardInterrupt:\n",
        "    print(\"\\n⚠️ Training interrupted! Saving latest model before exiting...\")\n",
        "    latest_model_path = os.path.join(drive_save_path, \"skyrim_chatbot_latest.keras\")\n",
        "    model.save(latest_model_path)\n",
        "    print(f\"✅ Latest model saved as {latest_model_path}\")\n"
      ]
    },
    {
      "cell_type": "code",
      "execution_count": null,
      "metadata": {
        "colab": {
          "base_uri": "https://localhost:8080/",
          "height": 337
        },
        "id": "xF9n8Mxy322B",
        "outputId": "59e5d163-ebbf-40ac-b460-75851712fec7"
      },
      "outputs": [
        {
          "data": {
            "text/html": [
              "<pre style=\"white-space:pre;overflow-x:auto;line-height:normal;font-family:Menlo,'DejaVu Sans Mono',consolas,'Courier New',monospace\"><span style=\"font-weight: bold\">Model: \"sequential_3\"</span>\n",
              "</pre>\n"
            ],
            "text/plain": [
              "\u001b[1mModel: \"sequential_3\"\u001b[0m\n"
            ]
          },
          "metadata": {},
          "output_type": "display_data"
        },
        {
          "data": {
            "text/html": [
              "<pre style=\"white-space:pre;overflow-x:auto;line-height:normal;font-family:Menlo,'DejaVu Sans Mono',consolas,'Courier New',monospace\">┏━━━━━━━━━━━━━━━━━━━━━━━━━━━━━━━━━┳━━━━━━━━━━━━━━━━━━━━━━━━┳━━━━━━━━━━━━━━━┓\n",
              "┃<span style=\"font-weight: bold\"> Layer (type)                    </span>┃<span style=\"font-weight: bold\"> Output Shape           </span>┃<span style=\"font-weight: bold\">       Param # </span>┃\n",
              "┡━━━━━━━━━━━━━━━━━━━━━━━━━━━━━━━━━╇━━━━━━━━━━━━━━━━━━━━━━━━╇━━━━━━━━━━━━━━━┩\n",
              "│ embedding_3 (<span style=\"color: #0087ff; text-decoration-color: #0087ff\">Embedding</span>)         │ (<span style=\"color: #00af00; text-decoration-color: #00af00\">64</span>, <span style=\"color: #00af00; text-decoration-color: #00af00\">50</span>, <span style=\"color: #00af00; text-decoration-color: #00af00\">256</span>)          │     <span style=\"color: #00af00; text-decoration-color: #00af00\">1,558,016</span> │\n",
              "├─────────────────────────────────┼────────────────────────┼───────────────┤\n",
              "│ bidirectional_6 (<span style=\"color: #0087ff; text-decoration-color: #0087ff\">Bidirectional</span>) │ (<span style=\"color: #00af00; text-decoration-color: #00af00\">64</span>, <span style=\"color: #00af00; text-decoration-color: #00af00\">50</span>, <span style=\"color: #00af00; text-decoration-color: #00af00\">1024</span>)         │     <span style=\"color: #00af00; text-decoration-color: #00af00\">3,149,824</span> │\n",
              "├─────────────────────────────────┼────────────────────────┼───────────────┤\n",
              "│ dropout_6 (<span style=\"color: #0087ff; text-decoration-color: #0087ff\">Dropout</span>)             │ (<span style=\"color: #00af00; text-decoration-color: #00af00\">64</span>, <span style=\"color: #00af00; text-decoration-color: #00af00\">50</span>, <span style=\"color: #00af00; text-decoration-color: #00af00\">1024</span>)         │             <span style=\"color: #00af00; text-decoration-color: #00af00\">0</span> │\n",
              "├─────────────────────────────────┼────────────────────────┼───────────────┤\n",
              "│ bidirectional_7 (<span style=\"color: #0087ff; text-decoration-color: #0087ff\">Bidirectional</span>) │ (<span style=\"color: #00af00; text-decoration-color: #00af00\">64</span>, <span style=\"color: #00af00; text-decoration-color: #00af00\">50</span>, <span style=\"color: #00af00; text-decoration-color: #00af00\">1024</span>)         │     <span style=\"color: #00af00; text-decoration-color: #00af00\">6,295,552</span> │\n",
              "├─────────────────────────────────┼────────────────────────┼───────────────┤\n",
              "│ dropout_7 (<span style=\"color: #0087ff; text-decoration-color: #0087ff\">Dropout</span>)             │ (<span style=\"color: #00af00; text-decoration-color: #00af00\">64</span>, <span style=\"color: #00af00; text-decoration-color: #00af00\">50</span>, <span style=\"color: #00af00; text-decoration-color: #00af00\">1024</span>)         │             <span style=\"color: #00af00; text-decoration-color: #00af00\">0</span> │\n",
              "├─────────────────────────────────┼────────────────────────┼───────────────┤\n",
              "│ dense_3 (<span style=\"color: #0087ff; text-decoration-color: #0087ff\">Dense</span>)                 │ (<span style=\"color: #00af00; text-decoration-color: #00af00\">64</span>, <span style=\"color: #00af00; text-decoration-color: #00af00\">50</span>, <span style=\"color: #00af00; text-decoration-color: #00af00\">6086</span>)         │     <span style=\"color: #00af00; text-decoration-color: #00af00\">6,238,150</span> │\n",
              "└─────────────────────────────────┴────────────────────────┴───────────────┘\n",
              "</pre>\n"
            ],
            "text/plain": [
              "┏━━━━━━━━━━━━━━━━━━━━━━━━━━━━━━━━━┳━━━━━━━━━━━━━━━━━━━━━━━━┳━━━━━━━━━━━━━━━┓\n",
              "┃\u001b[1m \u001b[0m\u001b[1mLayer (type)                   \u001b[0m\u001b[1m \u001b[0m┃\u001b[1m \u001b[0m\u001b[1mOutput Shape          \u001b[0m\u001b[1m \u001b[0m┃\u001b[1m \u001b[0m\u001b[1m      Param #\u001b[0m\u001b[1m \u001b[0m┃\n",
              "┡━━━━━━━━━━━━━━━━━━━━━━━━━━━━━━━━━╇━━━━━━━━━━━━━━━━━━━━━━━━╇━━━━━━━━━━━━━━━┩\n",
              "│ embedding_3 (\u001b[38;5;33mEmbedding\u001b[0m)         │ (\u001b[38;5;34m64\u001b[0m, \u001b[38;5;34m50\u001b[0m, \u001b[38;5;34m256\u001b[0m)          │     \u001b[38;5;34m1,558,016\u001b[0m │\n",
              "├─────────────────────────────────┼────────────────────────┼───────────────┤\n",
              "│ bidirectional_6 (\u001b[38;5;33mBidirectional\u001b[0m) │ (\u001b[38;5;34m64\u001b[0m, \u001b[38;5;34m50\u001b[0m, \u001b[38;5;34m1024\u001b[0m)         │     \u001b[38;5;34m3,149,824\u001b[0m │\n",
              "├─────────────────────────────────┼────────────────────────┼───────────────┤\n",
              "│ dropout_6 (\u001b[38;5;33mDropout\u001b[0m)             │ (\u001b[38;5;34m64\u001b[0m, \u001b[38;5;34m50\u001b[0m, \u001b[38;5;34m1024\u001b[0m)         │             \u001b[38;5;34m0\u001b[0m │\n",
              "├─────────────────────────────────┼────────────────────────┼───────────────┤\n",
              "│ bidirectional_7 (\u001b[38;5;33mBidirectional\u001b[0m) │ (\u001b[38;5;34m64\u001b[0m, \u001b[38;5;34m50\u001b[0m, \u001b[38;5;34m1024\u001b[0m)         │     \u001b[38;5;34m6,295,552\u001b[0m │\n",
              "├─────────────────────────────────┼────────────────────────┼───────────────┤\n",
              "│ dropout_7 (\u001b[38;5;33mDropout\u001b[0m)             │ (\u001b[38;5;34m64\u001b[0m, \u001b[38;5;34m50\u001b[0m, \u001b[38;5;34m1024\u001b[0m)         │             \u001b[38;5;34m0\u001b[0m │\n",
              "├─────────────────────────────────┼────────────────────────┼───────────────┤\n",
              "│ dense_3 (\u001b[38;5;33mDense\u001b[0m)                 │ (\u001b[38;5;34m64\u001b[0m, \u001b[38;5;34m50\u001b[0m, \u001b[38;5;34m6086\u001b[0m)         │     \u001b[38;5;34m6,238,150\u001b[0m │\n",
              "└─────────────────────────────────┴────────────────────────┴───────────────┘\n"
            ]
          },
          "metadata": {},
          "output_type": "display_data"
        },
        {
          "data": {
            "text/html": [
              "<pre style=\"white-space:pre;overflow-x:auto;line-height:normal;font-family:Menlo,'DejaVu Sans Mono',consolas,'Courier New',monospace\"><span style=\"font-weight: bold\"> Total params: </span><span style=\"color: #00af00; text-decoration-color: #00af00\">51,724,632</span> (197.31 MB)\n",
              "</pre>\n"
            ],
            "text/plain": [
              "\u001b[1m Total params: \u001b[0m\u001b[38;5;34m51,724,632\u001b[0m (197.31 MB)\n"
            ]
          },
          "metadata": {},
          "output_type": "display_data"
        },
        {
          "data": {
            "text/html": [
              "<pre style=\"white-space:pre;overflow-x:auto;line-height:normal;font-family:Menlo,'DejaVu Sans Mono',consolas,'Courier New',monospace\"><span style=\"font-weight: bold\"> Trainable params: </span><span style=\"color: #00af00; text-decoration-color: #00af00\">17,241,542</span> (65.77 MB)\n",
              "</pre>\n"
            ],
            "text/plain": [
              "\u001b[1m Trainable params: \u001b[0m\u001b[38;5;34m17,241,542\u001b[0m (65.77 MB)\n"
            ]
          },
          "metadata": {},
          "output_type": "display_data"
        },
        {
          "data": {
            "text/html": [
              "<pre style=\"white-space:pre;overflow-x:auto;line-height:normal;font-family:Menlo,'DejaVu Sans Mono',consolas,'Courier New',monospace\"><span style=\"font-weight: bold\"> Non-trainable params: </span><span style=\"color: #00af00; text-decoration-color: #00af00\">0</span> (0.00 B)\n",
              "</pre>\n"
            ],
            "text/plain": [
              "\u001b[1m Non-trainable params: \u001b[0m\u001b[38;5;34m0\u001b[0m (0.00 B)\n"
            ]
          },
          "metadata": {},
          "output_type": "display_data"
        },
        {
          "data": {
            "text/html": [
              "<pre style=\"white-space:pre;overflow-x:auto;line-height:normal;font-family:Menlo,'DejaVu Sans Mono',consolas,'Courier New',monospace\"><span style=\"font-weight: bold\"> Optimizer params: </span><span style=\"color: #00af00; text-decoration-color: #00af00\">34,483,090</span> (131.54 MB)\n",
              "</pre>\n"
            ],
            "text/plain": [
              "\u001b[1m Optimizer params: \u001b[0m\u001b[38;5;34m34,483,090\u001b[0m (131.54 MB)\n"
            ]
          },
          "metadata": {},
          "output_type": "display_data"
        }
      ],
      "source": [
        "model.summary()"
      ]
    },
    {
      "cell_type": "markdown",
      "metadata": {
        "id": "cK9IaNbWhhnw"
      },
      "source": [
        "# **11. Response Generation Function**"
      ]
    },
    {
      "cell_type": "code",
      "execution_count": null,
      "metadata": {
        "id": "O_Cq69QVhktH"
      },
      "outputs": [],
      "source": [
        "def generate_response(player_input, model, tokenizer, max_sequence_length):\n",
        "    input_seq = tokenizer.texts_to_sequences([player_input])\n",
        "    input_seq = pad_sequences(input_seq, maxlen=max_sequence_length, padding='post')\n",
        "\n",
        "    predicted_seq = model.predict(input_seq)\n",
        "    predicted_seq = np.argmax(predicted_seq, axis=-1)\n",
        "\n",
        "    response = tokenizer.sequences_to_texts(predicted_seq)[0]\n",
        "\n",
        "    if not response or response in [\"<OOV>\", \"\"]:\n",
        "        return \"I am not sure, traveler. Perhaps the answer lies elsewhere.\"\n",
        "\n",
        "    return response\n"
      ]
    },
    {
      "cell_type": "markdown",
      "metadata": {
        "id": "wVQmezPJhpag"
      },
      "source": [
        "# **12. Chatbot Interaction Loop**"
      ]
    },
    {
      "cell_type": "code",
      "execution_count": null,
      "metadata": {
        "colab": {
          "base_uri": "https://localhost:8080/"
        },
        "id": "JP1karMkhr45",
        "outputId": "a43cae16-071e-4cb5-d6a9-71c70688b48b"
      },
      "outputs": [
        {
          "name": "stdout",
          "output_type": "stream",
          "text": [
            "Welcome to the Elder Scrolls NPC Chatbot! Type 'exit' or 'quit' to end the conversation.\n",
            "You: hello\n",
            "\u001b[1m1/1\u001b[0m \u001b[32m━━━━━━━━━━━━━━━━━━━━\u001b[0m\u001b[37m\u001b[0m \u001b[1m0s\u001b[0m 385ms/step\n",
            "NPC: greetings traveler how can i assist you today <OOV> <OOV> <OOV> <OOV> <OOV> <OOV> <OOV> <OOV> <OOV> <OOV> <OOV> <OOV> <OOV> <OOV> <OOV> <OOV> <OOV> <OOV> <OOV> <OOV> <OOV> <OOV> <OOV> <OOV> <OOV> <OOV> <OOV> <OOV> <OOV> <OOV> <OOV> <OOV> <OOV> <OOV> <OOV> <OOV> <OOV> <OOV> <OOV> <OOV> <OOV> <OOV>\n",
            "You: hi\n",
            "\u001b[1m1/1\u001b[0m \u001b[32m━━━━━━━━━━━━━━━━━━━━\u001b[0m\u001b[37m\u001b[0m \u001b[1m0s\u001b[0m 54ms/step\n",
            "NPC: hello there what brings you here <OOV> <OOV> <OOV> <OOV> <OOV> <OOV> <OOV> <OOV> <OOV> <OOV> <OOV> <OOV> <OOV> <OOV> <OOV> <OOV> <OOV> <OOV> <OOV> <OOV> <OOV> <OOV> <OOV> <OOV> <OOV> <OOV> <OOV> <OOV> <OOV> <OOV> <OOV> <OOV> <OOV> <OOV> <OOV> <OOV> <OOV> <OOV> <OOV> <OOV> <OOV> <OOV> <OOV> <OOV>\n",
            "You: what is skyrim\n",
            "\u001b[1m1/1\u001b[0m \u001b[32m━━━━━━━━━━━━━━━━━━━━\u001b[0m\u001b[37m\u001b[0m \u001b[1m0s\u001b[0m 36ms/step\n",
            "NPC: skyrim is the northern province of tamriel home of the nords <OOV> <OOV> <OOV> <OOV> <OOV> <OOV> <OOV> <OOV> <OOV> <OOV> <OOV> <OOV> <OOV> <OOV> <OOV> <OOV> <OOV> <OOV> <OOV> <OOV> <OOV> <OOV> <OOV> <OOV> <OOV> <OOV> <OOV> <OOV> <OOV> <OOV> <OOV> <OOV> <OOV> <OOV> <OOV> <OOV> <OOV> <OOV> <OOV>\n",
            "You: quit\n",
            "NPC: Farewell, traveler. May the blessings of the Tribunal be with you!\n"
          ]
        }
      ],
      "source": [
        "try:\n",
        "    print(\"Welcome to the Elder Scrolls NPC Chatbot! Type 'exit' or 'quit' to end the conversation.\")\n",
        "    while True:\n",
        "        user_input = input(\"You: \").strip().lower()\n",
        "        if user_input in [\"exit\", \"quit\"]:\n",
        "            print(\"NPC: Farewell, traveler. May the blessings of the Tribunal be with you!\")\n",
        "            break\n",
        "\n",
        "        response = generate_response(user_input, model, tokenizer, max_len)\n",
        "        print(f\"NPC: {response}\")\n",
        "\n",
        "except KeyboardInterrupt:\n",
        "    print(\"\\n⚠️ Chatbot interrupted! Saving latest model before exiting...\")\n",
        "    latest_model_path = os.path.join(drive_save_path, \"skyrim_chatbot_latest.keras\")\n",
        "    model.save(latest_model_path)\n",
        "    print(f\"✅ Latest model saved as {latest_model_path}\")\n",
        "    print(\"NPC: Farewell, traveler. May the blessings of the Tribunal be with you!\")\n"
      ]
    },
    {
      "cell_type": "markdown",
      "metadata": {
        "id": "LcVRjO1vVk1y"
      },
      "source": [
        "# **Glove+LSTM**"
      ]
    },
    {
      "cell_type": "markdown",
      "metadata": {},
      "source": [
        "*RUN CELLS 1 - 7 TILL TRAIN SPLIT BEFORE CONTINUING*"
      ]
    },
    {
      "cell_type": "markdown",
      "metadata": {
        "id": "t4HlcBuDqCsB"
      },
      "source": [
        "# **1. Mount Google Drive for Auto-Saving**"
      ]
    },
    {
      "cell_type": "code",
      "execution_count": null,
      "metadata": {
        "id": "_KYmmUjLqBH_"
      },
      "outputs": [],
      "source": [
        "drive.mount('/content/drive')\n",
        "\n",
        "drive_save_path = \"/content/drive/MyDrive/chatbot/Glove+LSTM\"\n",
        "os.makedirs(drive_save_path, exist_ok=True)\n",
        "\n",
        "tf.keras.mixed_precision.set_global_policy('mixed_float16')"
      ]
    },
    {
      "cell_type": "markdown",
      "metadata": {},
      "source": [
        "Import your pretrained glove embedding"
      ]
    },
    {
      "cell_type": "code",
      "execution_count": null,
      "metadata": {
        "id": "icbelfGYVo0h"
      },
      "outputs": [],
      "source": [
        "glove_path = \"/content/drive/MyDrive/chatbot/glove.6B.300d.txt\""
      ]
    },
    {
      "cell_type": "code",
      "execution_count": null,
      "metadata": {
        "id": "6Nz9LkhxqGFN"
      },
      "outputs": [],
      "source": [
        "def perplexity(y_true, y_pred):\n",
        "    cross_entropy = tf.keras.losses.sparse_categorical_crossentropy(y_true, y_pred)\n",
        "    return tf.exp(tf.reduce_mean(cross_entropy))"
      ]
    },
    {
      "cell_type": "code",
      "execution_count": null,
      "metadata": {
        "id": "BMpN58wgVyVk"
      },
      "outputs": [],
      "source": [
        "embedding_index = {}\n",
        "embedding_dim = 300\n",
        "\n",
        "with open(glove_path, encoding='utf8') as f:\n",
        "    for line in f:\n",
        "        values = line.split()\n",
        "        word = values[0]\n",
        "        coefs = np.asarray(values[1:], dtype='float32')\n",
        "        embedding_index[word] = coefs\n",
        "\n",
        "embedding_matrix = np.zeros((vocab_size, embedding_dim))\n",
        "\n",
        "for word, i in tokenizer.word_index.items():\n",
        "    embedding_vector = embedding_index.get(word)\n",
        "    if embedding_vector is not None:\n",
        "        embedding_matrix[i] = embedding_vector"
      ]
    },
    {
      "cell_type": "code",
      "execution_count": null,
      "metadata": {
        "colab": {
          "base_uri": "https://localhost:8080/",
          "height": 376
        },
        "id": "uxmFdcaDV1Vi",
        "outputId": "fad74c3c-a8b1-4857-9e8f-38b4e7cef3e5"
      },
      "outputs": [
        {
          "name": "stderr",
          "output_type": "stream",
          "text": [
            "/usr/local/lib/python3.11/dist-packages/keras/src/layers/core/embedding.py:90: UserWarning: Argument `input_length` is deprecated. Just remove it.\n",
            "  warnings.warn(\n"
          ]
        },
        {
          "data": {
            "text/html": [
              "<pre style=\"white-space:pre;overflow-x:auto;line-height:normal;font-family:Menlo,'DejaVu Sans Mono',consolas,'Courier New',monospace\"><span style=\"font-weight: bold\">Model: \"sequential_3\"</span>\n",
              "</pre>\n"
            ],
            "text/plain": [
              "\u001b[1mModel: \"sequential_3\"\u001b[0m\n"
            ]
          },
          "metadata": {},
          "output_type": "display_data"
        },
        {
          "data": {
            "text/html": [
              "<pre style=\"white-space:pre;overflow-x:auto;line-height:normal;font-family:Menlo,'DejaVu Sans Mono',consolas,'Courier New',monospace\">┏━━━━━━━━━━━━━━━━━━━━━━━━━━━━━━━━━┳━━━━━━━━━━━━━━━━━━━━━━━━┳━━━━━━━━━━━━━━━┓\n",
              "┃<span style=\"font-weight: bold\"> Layer (type)                    </span>┃<span style=\"font-weight: bold\"> Output Shape           </span>┃<span style=\"font-weight: bold\">       Param # </span>┃\n",
              "┡━━━━━━━━━━━━━━━━━━━━━━━━━━━━━━━━━╇━━━━━━━━━━━━━━━━━━━━━━━━╇━━━━━━━━━━━━━━━┩\n",
              "│ embedding_4 (<span style=\"color: #0087ff; text-decoration-color: #0087ff\">Embedding</span>)         │ ?                      │     <span style=\"color: #00af00; text-decoration-color: #00af00\">1,825,800</span> │\n",
              "├─────────────────────────────────┼────────────────────────┼───────────────┤\n",
              "│ bidirectional_6 (<span style=\"color: #0087ff; text-decoration-color: #0087ff\">Bidirectional</span>) │ ?                      │   <span style=\"color: #00af00; text-decoration-color: #00af00\">0</span> (unbuilt) │\n",
              "├─────────────────────────────────┼────────────────────────┼───────────────┤\n",
              "│ dropout_6 (<span style=\"color: #0087ff; text-decoration-color: #0087ff\">Dropout</span>)             │ ?                      │             <span style=\"color: #00af00; text-decoration-color: #00af00\">0</span> │\n",
              "├─────────────────────────────────┼────────────────────────┼───────────────┤\n",
              "│ bidirectional_7 (<span style=\"color: #0087ff; text-decoration-color: #0087ff\">Bidirectional</span>) │ ?                      │   <span style=\"color: #00af00; text-decoration-color: #00af00\">0</span> (unbuilt) │\n",
              "├─────────────────────────────────┼────────────────────────┼───────────────┤\n",
              "│ dropout_7 (<span style=\"color: #0087ff; text-decoration-color: #0087ff\">Dropout</span>)             │ ?                      │             <span style=\"color: #00af00; text-decoration-color: #00af00\">0</span> │\n",
              "├─────────────────────────────────┼────────────────────────┼───────────────┤\n",
              "│ dense_3 (<span style=\"color: #0087ff; text-decoration-color: #0087ff\">Dense</span>)                 │ ?                      │   <span style=\"color: #00af00; text-decoration-color: #00af00\">0</span> (unbuilt) │\n",
              "└─────────────────────────────────┴────────────────────────┴───────────────┘\n",
              "</pre>\n"
            ],
            "text/plain": [
              "┏━━━━━━━━━━━━━━━━━━━━━━━━━━━━━━━━━┳━━━━━━━━━━━━━━━━━━━━━━━━┳━━━━━━━━━━━━━━━┓\n",
              "┃\u001b[1m \u001b[0m\u001b[1mLayer (type)                   \u001b[0m\u001b[1m \u001b[0m┃\u001b[1m \u001b[0m\u001b[1mOutput Shape          \u001b[0m\u001b[1m \u001b[0m┃\u001b[1m \u001b[0m\u001b[1m      Param #\u001b[0m\u001b[1m \u001b[0m┃\n",
              "┡━━━━━━━━━━━━━━━━━━━━━━━━━━━━━━━━━╇━━━━━━━━━━━━━━━━━━━━━━━━╇━━━━━━━━━━━━━━━┩\n",
              "│ embedding_4 (\u001b[38;5;33mEmbedding\u001b[0m)         │ ?                      │     \u001b[38;5;34m1,825,800\u001b[0m │\n",
              "├─────────────────────────────────┼────────────────────────┼───────────────┤\n",
              "│ bidirectional_6 (\u001b[38;5;33mBidirectional\u001b[0m) │ ?                      │   \u001b[38;5;34m0\u001b[0m (unbuilt) │\n",
              "├─────────────────────────────────┼────────────────────────┼───────────────┤\n",
              "│ dropout_6 (\u001b[38;5;33mDropout\u001b[0m)             │ ?                      │             \u001b[38;5;34m0\u001b[0m │\n",
              "├─────────────────────────────────┼────────────────────────┼───────────────┤\n",
              "│ bidirectional_7 (\u001b[38;5;33mBidirectional\u001b[0m) │ ?                      │   \u001b[38;5;34m0\u001b[0m (unbuilt) │\n",
              "├─────────────────────────────────┼────────────────────────┼───────────────┤\n",
              "│ dropout_7 (\u001b[38;5;33mDropout\u001b[0m)             │ ?                      │             \u001b[38;5;34m0\u001b[0m │\n",
              "├─────────────────────────────────┼────────────────────────┼───────────────┤\n",
              "│ dense_3 (\u001b[38;5;33mDense\u001b[0m)                 │ ?                      │   \u001b[38;5;34m0\u001b[0m (unbuilt) │\n",
              "└─────────────────────────────────┴────────────────────────┴───────────────┘\n"
            ]
          },
          "metadata": {},
          "output_type": "display_data"
        },
        {
          "data": {
            "text/html": [
              "<pre style=\"white-space:pre;overflow-x:auto;line-height:normal;font-family:Menlo,'DejaVu Sans Mono',consolas,'Courier New',monospace\"><span style=\"font-weight: bold\"> Total params: </span><span style=\"color: #00af00; text-decoration-color: #00af00\">1,825,800</span> (6.96 MB)\n",
              "</pre>\n"
            ],
            "text/plain": [
              "\u001b[1m Total params: \u001b[0m\u001b[38;5;34m1,825,800\u001b[0m (6.96 MB)\n"
            ]
          },
          "metadata": {},
          "output_type": "display_data"
        },
        {
          "data": {
            "text/html": [
              "<pre style=\"white-space:pre;overflow-x:auto;line-height:normal;font-family:Menlo,'DejaVu Sans Mono',consolas,'Courier New',monospace\"><span style=\"font-weight: bold\"> Trainable params: </span><span style=\"color: #00af00; text-decoration-color: #00af00\">0</span> (0.00 B)\n",
              "</pre>\n"
            ],
            "text/plain": [
              "\u001b[1m Trainable params: \u001b[0m\u001b[38;5;34m0\u001b[0m (0.00 B)\n"
            ]
          },
          "metadata": {},
          "output_type": "display_data"
        },
        {
          "data": {
            "text/html": [
              "<pre style=\"white-space:pre;overflow-x:auto;line-height:normal;font-family:Menlo,'DejaVu Sans Mono',consolas,'Courier New',monospace\"><span style=\"font-weight: bold\"> Non-trainable params: </span><span style=\"color: #00af00; text-decoration-color: #00af00\">1,825,800</span> (6.96 MB)\n",
              "</pre>\n"
            ],
            "text/plain": [
              "\u001b[1m Non-trainable params: \u001b[0m\u001b[38;5;34m1,825,800\u001b[0m (6.96 MB)\n"
            ]
          },
          "metadata": {},
          "output_type": "display_data"
        }
      ],
      "source": [
        "\n",
        "lstm_units = 512\n",
        "dropout_rate = 0.3\n",
        "\n",
        "model2 = Sequential([\n",
        "    Embedding(\n",
        "        input_dim=vocab_size,\n",
        "        output_dim=embedding_dim,\n",
        "        weights=[embedding_matrix],\n",
        "        input_length=max_len,\n",
        "        trainable=False\n",
        "    ),\n",
        "    Bidirectional(LSTM(lstm_units, return_sequences=True)),\n",
        "    Dropout(dropout_rate),\n",
        "    Bidirectional(LSTM(lstm_units, return_sequences=True)),\n",
        "    Dropout(dropout_rate),\n",
        "    Dense(vocab_size, activation='softmax')\n",
        "])\n",
        "\n",
        "\n",
        "optimizer = Adam(learning_rate=0.001)\n",
        "\n",
        "model2.compile(\n",
        "    loss='sparse_categorical_crossentropy',\n",
        "    optimizer=optimizer,\n",
        "    metrics=['accuracy', perplexity]\n",
        ")\n"
      ]
    },
    {
      "cell_type": "code",
      "execution_count": null,
      "metadata": {
        "id": "2IvuCfArpSX7"
      },
      "outputs": [],
      "source": [
        "model2.summary()"
      ]
    },
    {
      "cell_type": "code",
      "execution_count": null,
      "metadata": {
        "colab": {
          "base_uri": "https://localhost:8080/",
          "height": 1000
        },
        "id": "qh1VcXxhV3JP",
        "outputId": "834e2d35-7258-412c-850f-d5dc508cd30d"
      },
      "outputs": [
        {
          "name": "stdout",
          "output_type": "stream",
          "text": [
            "Epoch 1/50\n",
            "\u001b[1m313/313\u001b[0m \u001b[32m━━━━━━━━━━━━━━━━━━━━\u001b[0m\u001b[37m\u001b[0m \u001b[1m0s\u001b[0m 136ms/step - accuracy: 0.8338 - loss: 1.1910✅ Model and Tokenizer saved after epoch 1 at /content/drive/MyDrive/chatbot/skyrim_chatbot_latest.keras and /content/drive/MyDrive/chatbot/tokenizer.pkl\n",
            "\u001b[1m313/313\u001b[0m \u001b[32m━━━━━━━━━━━━━━━━━━━━\u001b[0m\u001b[37m\u001b[0m \u001b[1m57s\u001b[0m 182ms/step - accuracy: 0.8338 - loss: 1.1909 - val_accuracy: 0.8350 - val_loss: 1.1374\n",
            "Epoch 2/50\n",
            "\u001b[1m313/313\u001b[0m \u001b[32m━━━━━━━━━━━━━━━━━━━━\u001b[0m\u001b[37m\u001b[0m \u001b[1m0s\u001b[0m 136ms/step - accuracy: 0.8367 - loss: 1.1138✅ Model and Tokenizer saved after epoch 2 at /content/drive/MyDrive/chatbot/skyrim_chatbot_latest.keras and /content/drive/MyDrive/chatbot/tokenizer.pkl\n",
            "\u001b[1m313/313\u001b[0m \u001b[32m━━━━━━━━━━━━━━━━━━━━\u001b[0m\u001b[37m\u001b[0m \u001b[1m77s\u001b[0m 167ms/step - accuracy: 0.8367 - loss: 1.1137 - val_accuracy: 0.8383 - val_loss: 1.0761\n",
            "Epoch 3/50\n",
            "\u001b[1m313/313\u001b[0m \u001b[32m━━━━━━━━━━━━━━━━━━━━\u001b[0m\u001b[37m\u001b[0m \u001b[1m0s\u001b[0m 136ms/step - accuracy: 0.8392 - loss: 1.0530✅ Model and Tokenizer saved after epoch 3 at /content/drive/MyDrive/chatbot/skyrim_chatbot_latest.keras and /content/drive/MyDrive/chatbot/tokenizer.pkl\n",
            "\u001b[1m313/313\u001b[0m \u001b[32m━━━━━━━━━━━━━━━━━━━━\u001b[0m\u001b[37m\u001b[0m \u001b[1m82s\u001b[0m 169ms/step - accuracy: 0.8392 - loss: 1.0529 - val_accuracy: 0.8392 - val_loss: 1.0236\n",
            "Epoch 4/50\n",
            "\u001b[1m313/313\u001b[0m \u001b[32m━━━━━━━━━━━━━━━━━━━━\u001b[0m\u001b[37m\u001b[0m \u001b[1m0s\u001b[0m 137ms/step - accuracy: 0.8403 - loss: 1.0033✅ Model and Tokenizer saved after epoch 4 at /content/drive/MyDrive/chatbot/skyrim_chatbot_latest.keras and /content/drive/MyDrive/chatbot/tokenizer.pkl\n",
            "\u001b[1m313/313\u001b[0m \u001b[32m━━━━━━━━━━━━━━━━━━━━\u001b[0m\u001b[37m\u001b[0m \u001b[1m80s\u001b[0m 162ms/step - accuracy: 0.8403 - loss: 1.0032 - val_accuracy: 0.8409 - val_loss: 0.9804\n",
            "Epoch 5/50\n",
            "\u001b[1m313/313\u001b[0m \u001b[32m━━━━━━━━━━━━━━━━━━━━\u001b[0m\u001b[37m\u001b[0m \u001b[1m0s\u001b[0m 138ms/step - accuracy: 0.8423 - loss: 0.9533✅ Model and Tokenizer saved after epoch 5 at /content/drive/MyDrive/chatbot/skyrim_chatbot_latest.keras and /content/drive/MyDrive/chatbot/tokenizer.pkl\n",
            "\u001b[1m313/313\u001b[0m \u001b[32m━━━━━━━━━━━━━━━━━━━━\u001b[0m\u001b[37m\u001b[0m \u001b[1m54s\u001b[0m 172ms/step - accuracy: 0.8423 - loss: 0.9533 - val_accuracy: 0.8427 - val_loss: 0.9365\n",
            "Epoch 6/50\n",
            "\u001b[1m313/313\u001b[0m \u001b[32m━━━━━━━━━━━━━━━━━━━━\u001b[0m\u001b[37m\u001b[0m \u001b[1m0s\u001b[0m 138ms/step - accuracy: 0.8438 - loss: 0.9097✅ Model and Tokenizer saved after epoch 6 at /content/drive/MyDrive/chatbot/skyrim_chatbot_latest.keras and /content/drive/MyDrive/chatbot/tokenizer.pkl\n",
            "\u001b[1m313/313\u001b[0m \u001b[32m━━━━━━━━━━━━━━━━━━━━\u001b[0m\u001b[37m\u001b[0m \u001b[1m57s\u001b[0m 182ms/step - accuracy: 0.8438 - loss: 0.9097 - val_accuracy: 0.8452 - val_loss: 0.8900\n",
            "Epoch 7/50\n",
            "\u001b[1m313/313\u001b[0m \u001b[32m━━━━━━━━━━━━━━━━━━━━\u001b[0m\u001b[37m\u001b[0m \u001b[1m0s\u001b[0m 138ms/step - accuracy: 0.8472 - loss: 0.8592✅ Model and Tokenizer saved after epoch 7 at /content/drive/MyDrive/chatbot/skyrim_chatbot_latest.keras and /content/drive/MyDrive/chatbot/tokenizer.pkl\n",
            "\u001b[1m313/313\u001b[0m \u001b[32m━━━━━━━━━━━━━━━━━━━━\u001b[0m\u001b[37m\u001b[0m \u001b[1m53s\u001b[0m 169ms/step - accuracy: 0.8472 - loss: 0.8592 - val_accuracy: 0.8494 - val_loss: 0.8423\n",
            "Epoch 8/50\n",
            "\u001b[1m313/313\u001b[0m \u001b[32m━━━━━━━━━━━━━━━━━━━━\u001b[0m\u001b[37m\u001b[0m \u001b[1m0s\u001b[0m 135ms/step - accuracy: 0.8523 - loss: 0.8034✅ Model and Tokenizer saved after epoch 8 at /content/drive/MyDrive/chatbot/skyrim_chatbot_latest.keras and /content/drive/MyDrive/chatbot/tokenizer.pkl\n",
            "\u001b[1m313/313\u001b[0m \u001b[32m━━━━━━━━━━━━━━━━━━━━\u001b[0m\u001b[37m\u001b[0m \u001b[1m80s\u001b[0m 162ms/step - accuracy: 0.8523 - loss: 0.8034 - val_accuracy: 0.8540 - val_loss: 0.7965\n",
            "Epoch 9/50\n",
            "\u001b[1m313/313\u001b[0m \u001b[32m━━━━━━━━━━━━━━━━━━━━\u001b[0m\u001b[37m\u001b[0m \u001b[1m0s\u001b[0m 135ms/step - accuracy: 0.8568 - loss: 0.7592✅ Model and Tokenizer saved after epoch 9 at /content/drive/MyDrive/chatbot/skyrim_chatbot_latest.keras and /content/drive/MyDrive/chatbot/tokenizer.pkl\n",
            "\u001b[1m313/313\u001b[0m \u001b[32m━━━━━━━━━━━━━━━━━━━━\u001b[0m\u001b[37m\u001b[0m \u001b[1m87s\u001b[0m 177ms/step - accuracy: 0.8568 - loss: 0.7592 - val_accuracy: 0.8581 - val_loss: 0.7583\n",
            "Epoch 10/50\n",
            "\u001b[1m313/313\u001b[0m \u001b[32m━━━━━━━━━━━━━━━━━━━━\u001b[0m\u001b[37m\u001b[0m \u001b[1m0s\u001b[0m 137ms/step - accuracy: 0.8616 - loss: 0.7203✅ Model and Tokenizer saved after epoch 10 at /content/drive/MyDrive/chatbot/skyrim_chatbot_latest.keras and /content/drive/MyDrive/chatbot/tokenizer.pkl\n",
            "\u001b[1m313/313\u001b[0m \u001b[32m━━━━━━━━━━━━━━━━━━━━\u001b[0m\u001b[37m\u001b[0m \u001b[1m59s\u001b[0m 187ms/step - accuracy: 0.8616 - loss: 0.7203 - val_accuracy: 0.8621 - val_loss: 0.7246\n",
            "Epoch 11/50\n",
            "\u001b[1m313/313\u001b[0m \u001b[32m━━━━━━━━━━━━━━━━━━━━\u001b[0m\u001b[37m\u001b[0m \u001b[1m0s\u001b[0m 137ms/step - accuracy: 0.8661 - loss: 0.6872✅ Model and Tokenizer saved after epoch 11 at /content/drive/MyDrive/chatbot/skyrim_chatbot_latest.keras and /content/drive/MyDrive/chatbot/tokenizer.pkl\n",
            "\u001b[1m313/313\u001b[0m \u001b[32m━━━━━━━━━━━━━━━━━━━━\u001b[0m\u001b[37m\u001b[0m \u001b[1m63s\u001b[0m 201ms/step - accuracy: 0.8661 - loss: 0.6872 - val_accuracy: 0.8659 - val_loss: 0.6967\n",
            "Epoch 12/50\n",
            "\u001b[1m313/313\u001b[0m \u001b[32m━━━━━━━━━━━━━━━━━━━━\u001b[0m\u001b[37m\u001b[0m \u001b[1m0s\u001b[0m 136ms/step - accuracy: 0.8698 - loss: 0.6605✅ Model and Tokenizer saved after epoch 12 at /content/drive/MyDrive/chatbot/skyrim_chatbot_latest.keras and /content/drive/MyDrive/chatbot/tokenizer.pkl\n",
            "\u001b[1m313/313\u001b[0m \u001b[32m━━━━━━━━━━━━━━━━━━━━\u001b[0m\u001b[37m\u001b[0m \u001b[1m79s\u001b[0m 193ms/step - accuracy: 0.8698 - loss: 0.6605 - val_accuracy: 0.8696 - val_loss: 0.6684\n",
            "Epoch 13/50\n",
            "\u001b[1m313/313\u001b[0m \u001b[32m━━━━━━━━━━━━━━━━━━━━\u001b[0m\u001b[37m\u001b[0m \u001b[1m0s\u001b[0m 137ms/step - accuracy: 0.8738 - loss: 0.6293✅ Model and Tokenizer saved after epoch 13 at /content/drive/MyDrive/chatbot/skyrim_chatbot_latest.keras and /content/drive/MyDrive/chatbot/tokenizer.pkl\n",
            "\u001b[1m313/313\u001b[0m \u001b[32m━━━━━━━━━━━━━━━━━━━━\u001b[0m\u001b[37m\u001b[0m \u001b[1m57s\u001b[0m 182ms/step - accuracy: 0.8738 - loss: 0.6293 - val_accuracy: 0.8727 - val_loss: 0.6466\n",
            "Epoch 14/50\n",
            "\u001b[1m313/313\u001b[0m \u001b[32m━━━━━━━━━━━━━━━━━━━━\u001b[0m\u001b[37m\u001b[0m \u001b[1m0s\u001b[0m 137ms/step - accuracy: 0.8766 - loss: 0.6121✅ Model and Tokenizer saved after epoch 14 at /content/drive/MyDrive/chatbot/skyrim_chatbot_latest.keras and /content/drive/MyDrive/chatbot/tokenizer.pkl\n",
            "\u001b[1m313/313\u001b[0m \u001b[32m━━━━━━━━━━━━━━━━━━━━\u001b[0m\u001b[37m\u001b[0m \u001b[1m75s\u001b[0m 161ms/step - accuracy: 0.8766 - loss: 0.6121 - val_accuracy: 0.8756 - val_loss: 0.6271\n",
            "Epoch 15/50\n",
            "\u001b[1m313/313\u001b[0m \u001b[32m━━━━━━━━━━━━━━━━━━━━\u001b[0m\u001b[37m\u001b[0m \u001b[1m0s\u001b[0m 136ms/step - accuracy: 0.8802 - loss: 0.5909✅ Model and Tokenizer saved after epoch 15 at /content/drive/MyDrive/chatbot/skyrim_chatbot_latest.keras and /content/drive/MyDrive/chatbot/tokenizer.pkl\n",
            "\u001b[1m313/313\u001b[0m \u001b[32m━━━━━━━━━━━━━━━━━━━━\u001b[0m\u001b[37m\u001b[0m \u001b[1m86s\u001b[0m 173ms/step - accuracy: 0.8802 - loss: 0.5909 - val_accuracy: 0.8787 - val_loss: 0.6087\n",
            "Epoch 16/50\n",
            "\u001b[1m313/313\u001b[0m \u001b[32m━━━━━━━━━━━━━━━━━━━━\u001b[0m\u001b[37m\u001b[0m \u001b[1m0s\u001b[0m 136ms/step - accuracy: 0.8831 - loss: 0.5713✅ Model and Tokenizer saved after epoch 16 at /content/drive/MyDrive/chatbot/skyrim_chatbot_latest.keras and /content/drive/MyDrive/chatbot/tokenizer.pkl\n",
            "\u001b[1m313/313\u001b[0m \u001b[32m━━━━━━━━━━━━━━━━━━━━\u001b[0m\u001b[37m\u001b[0m \u001b[1m83s\u001b[0m 178ms/step - accuracy: 0.8831 - loss: 0.5713 - val_accuracy: 0.8809 - val_loss: 0.5955\n",
            "Epoch 17/50\n",
            "\u001b[1m313/313\u001b[0m \u001b[32m━━━━━━━━━━━━━━━━━━━━\u001b[0m\u001b[37m\u001b[0m \u001b[1m0s\u001b[0m 138ms/step - accuracy: 0.8862 - loss: 0.5548✅ Model and Tokenizer saved after epoch 17 at /content/drive/MyDrive/chatbot/skyrim_chatbot_latest.keras and /content/drive/MyDrive/chatbot/tokenizer.pkl\n",
            "\u001b[1m313/313\u001b[0m \u001b[32m━━━━━━━━━━━━━━━━━━━━\u001b[0m\u001b[37m\u001b[0m \u001b[1m90s\u001b[0m 204ms/step - accuracy: 0.8862 - loss: 0.5548 - val_accuracy: 0.8834 - val_loss: 0.5818\n",
            "Epoch 18/50\n",
            "\u001b[1m313/313\u001b[0m \u001b[32m━━━━━━━━━━━━━━━━━━━━\u001b[0m\u001b[37m\u001b[0m \u001b[1m0s\u001b[0m 136ms/step - accuracy: 0.8893 - loss: 0.5381✅ Model and Tokenizer saved after epoch 18 at /content/drive/MyDrive/chatbot/skyrim_chatbot_latest.keras and /content/drive/MyDrive/chatbot/tokenizer.pkl\n",
            "\u001b[1m313/313\u001b[0m \u001b[32m━━━━━━━━━━━━━━━━━━━━\u001b[0m\u001b[37m\u001b[0m \u001b[1m74s\u001b[0m 179ms/step - accuracy: 0.8893 - loss: 0.5381 - val_accuracy: 0.8853 - val_loss: 0.5716\n",
            "Epoch 19/50\n",
            "\u001b[1m313/313\u001b[0m \u001b[32m━━━━━━━━━━━━━━━━━━━━\u001b[0m\u001b[37m\u001b[0m \u001b[1m0s\u001b[0m 138ms/step - accuracy: 0.8903 - loss: 0.5327✅ Model and Tokenizer saved after epoch 19 at /content/drive/MyDrive/chatbot/skyrim_chatbot_latest.keras and /content/drive/MyDrive/chatbot/tokenizer.pkl\n",
            "\u001b[1m313/313\u001b[0m \u001b[32m━━━━━━━━━━━━━━━━━━━━\u001b[0m\u001b[37m\u001b[0m \u001b[1m88s\u001b[0m 198ms/step - accuracy: 0.8903 - loss: 0.5327 - val_accuracy: 0.8875 - val_loss: 0.5616\n",
            "Epoch 20/50\n",
            "\u001b[1m313/313\u001b[0m \u001b[32m━━━━━━━━━━━━━━━━━━━━\u001b[0m\u001b[37m\u001b[0m \u001b[1m0s\u001b[0m 139ms/step - accuracy: 0.8927 - loss: 0.5190✅ Model and Tokenizer saved after epoch 20 at /content/drive/MyDrive/chatbot/skyrim_chatbot_latest.keras and /content/drive/MyDrive/chatbot/tokenizer.pkl\n",
            "\u001b[1m313/313\u001b[0m \u001b[32m━━━━━━━━━━━━━━━━━━━━\u001b[0m\u001b[37m\u001b[0m \u001b[1m56s\u001b[0m 178ms/step - accuracy: 0.8927 - loss: 0.5190 - val_accuracy: 0.8887 - val_loss: 0.5544\n",
            "Epoch 21/50\n",
            "\u001b[1m313/313\u001b[0m \u001b[32m━━━━━━━━━━━━━━━━━━━━\u001b[0m\u001b[37m\u001b[0m \u001b[1m0s\u001b[0m 137ms/step - accuracy: 0.8953 - loss: 0.5049✅ Model and Tokenizer saved after epoch 21 at /content/drive/MyDrive/chatbot/skyrim_chatbot_latest.keras and /content/drive/MyDrive/chatbot/tokenizer.pkl\n",
            "\u001b[1m313/313\u001b[0m \u001b[32m━━━━━━━━━━━━━━━━━━━━\u001b[0m\u001b[37m\u001b[0m \u001b[1m82s\u001b[0m 179ms/step - accuracy: 0.8953 - loss: 0.5049 - val_accuracy: 0.8905 - val_loss: 0.5465\n",
            "Epoch 22/50\n",
            "\u001b[1m313/313\u001b[0m \u001b[32m━━━━━━━━━━━━━━━━━━━━\u001b[0m\u001b[37m\u001b[0m \u001b[1m0s\u001b[0m 134ms/step - accuracy: 0.8969 - loss: 0.4960✅ Model and Tokenizer saved after epoch 22 at /content/drive/MyDrive/chatbot/skyrim_chatbot_latest.keras and /content/drive/MyDrive/chatbot/tokenizer.pkl\n",
            "\u001b[1m313/313\u001b[0m \u001b[32m━━━━━━━━━━━━━━━━━━━━\u001b[0m\u001b[37m\u001b[0m \u001b[1m81s\u001b[0m 175ms/step - accuracy: 0.8969 - loss: 0.4960 - val_accuracy: 0.8920 - val_loss: 0.5384\n",
            "Epoch 23/50\n",
            "\u001b[1m313/313\u001b[0m \u001b[32m━━━━━━━━━━━━━━━━━━━━\u001b[0m\u001b[37m\u001b[0m \u001b[1m0s\u001b[0m 133ms/step - accuracy: 0.8987 - loss: 0.4899✅ Model and Tokenizer saved after epoch 23 at /content/drive/MyDrive/chatbot/skyrim_chatbot_latest.keras and /content/drive/MyDrive/chatbot/tokenizer.pkl\n",
            "\u001b[1m313/313\u001b[0m \u001b[32m━━━━━━━━━━━━━━━━━━━━\u001b[0m\u001b[37m\u001b[0m \u001b[1m90s\u001b[0m 202ms/step - accuracy: 0.8987 - loss: 0.4899 - val_accuracy: 0.8932 - val_loss: 0.5334\n",
            "Epoch 24/50\n",
            "\u001b[1m313/313\u001b[0m \u001b[32m━━━━━━━━━━━━━━━━━━━━\u001b[0m\u001b[37m\u001b[0m \u001b[1m0s\u001b[0m 133ms/step - accuracy: 0.9000 - loss: 0.4861✅ Model and Tokenizer saved after epoch 24 at /content/drive/MyDrive/chatbot/skyrim_chatbot_latest.keras and /content/drive/MyDrive/chatbot/tokenizer.pkl\n",
            "\u001b[1m313/313\u001b[0m \u001b[32m━━━━━━━━━━━━━━━━━━━━\u001b[0m\u001b[37m\u001b[0m \u001b[1m80s\u001b[0m 196ms/step - accuracy: 0.9000 - loss: 0.4861 - val_accuracy: 0.8947 - val_loss: 0.5280\n",
            "Epoch 25/50\n",
            "\u001b[1m313/313\u001b[0m \u001b[32m━━━━━━━━━━━━━━━━━━━━\u001b[0m\u001b[37m\u001b[0m \u001b[1m0s\u001b[0m 136ms/step - accuracy: 0.9017 - loss: 0.4751✅ Model and Tokenizer saved after epoch 25 at /content/drive/MyDrive/chatbot/skyrim_chatbot_latest.keras and /content/drive/MyDrive/chatbot/tokenizer.pkl\n",
            "\u001b[1m313/313\u001b[0m \u001b[32m━━━━━━━━━━━━━━━━━━━━\u001b[0m\u001b[37m\u001b[0m \u001b[1m76s\u001b[0m 177ms/step - accuracy: 0.9017 - loss: 0.4751 - val_accuracy: 0.8958 - val_loss: 0.5233\n",
            "Epoch 26/50\n",
            "\u001b[1m313/313\u001b[0m \u001b[32m━━━━━━━━━━━━━━━━━━━━\u001b[0m\u001b[37m\u001b[0m \u001b[1m0s\u001b[0m 136ms/step - accuracy: 0.9024 - loss: 0.4729✅ Model and Tokenizer saved after epoch 26 at /content/drive/MyDrive/chatbot/skyrim_chatbot_latest.keras and /content/drive/MyDrive/chatbot/tokenizer.pkl\n",
            "\u001b[1m313/313\u001b[0m \u001b[32m━━━━━━━━━━━━━━━━━━━━\u001b[0m\u001b[37m\u001b[0m \u001b[1m61s\u001b[0m 196ms/step - accuracy: 0.9024 - loss: 0.4729 - val_accuracy: 0.8968 - val_loss: 0.5190\n",
            "Epoch 27/50\n",
            "\u001b[1m313/313\u001b[0m \u001b[32m━━━━━━━━━━━━━━━━━━━━\u001b[0m\u001b[37m\u001b[0m \u001b[1m0s\u001b[0m 137ms/step - accuracy: 0.9039 - loss: 0.4626✅ Model and Tokenizer saved after epoch 27 at /content/drive/MyDrive/chatbot/skyrim_chatbot_latest.keras and /content/drive/MyDrive/chatbot/tokenizer.pkl\n",
            "\u001b[1m313/313\u001b[0m \u001b[32m━━━━━━━━━━━━━━━━━━━━\u001b[0m\u001b[37m\u001b[0m \u001b[1m56s\u001b[0m 179ms/step - accuracy: 0.9039 - loss: 0.4626 - val_accuracy: 0.8972 - val_loss: 0.5171\n",
            "Epoch 28/50\n",
            "\u001b[1m313/313\u001b[0m \u001b[32m━━━━━━━━━━━━━━━━━━━━\u001b[0m\u001b[37m\u001b[0m \u001b[1m0s\u001b[0m 136ms/step - accuracy: 0.9045 - loss: 0.4615✅ Model and Tokenizer saved after epoch 28 at /content/drive/MyDrive/chatbot/skyrim_chatbot_latest.keras and /content/drive/MyDrive/chatbot/tokenizer.pkl\n",
            "\u001b[1m313/313\u001b[0m \u001b[32m━━━━━━━━━━━━━━━━━━━━\u001b[0m\u001b[37m\u001b[0m \u001b[1m78s\u001b[0m 167ms/step - accuracy: 0.9045 - loss: 0.4615 - val_accuracy: 0.8979 - val_loss: 0.5141\n",
            "Epoch 29/50\n",
            "\u001b[1m313/313\u001b[0m \u001b[32m━━━━━━━━━━━━━━━━━━━━\u001b[0m\u001b[37m\u001b[0m \u001b[1m0s\u001b[0m 137ms/step - accuracy: 0.9065 - loss: 0.4532✅ Model and Tokenizer saved after epoch 29 at /content/drive/MyDrive/chatbot/skyrim_chatbot_latest.keras and /content/drive/MyDrive/chatbot/tokenizer.pkl\n",
            "\u001b[1m313/313\u001b[0m \u001b[32m━━━━━━━━━━━━━━━━━━━━\u001b[0m\u001b[37m\u001b[0m \u001b[1m53s\u001b[0m 170ms/step - accuracy: 0.9065 - loss: 0.4532 - val_accuracy: 0.8986 - val_loss: 0.5122\n",
            "Epoch 30/50\n",
            "\u001b[1m313/313\u001b[0m \u001b[32m━━━━━━━━━━━━━━━━━━━━\u001b[0m\u001b[37m\u001b[0m \u001b[1m0s\u001b[0m 137ms/step - accuracy: 0.9074 - loss: 0.4475✅ Model and Tokenizer saved after epoch 30 at /content/drive/MyDrive/chatbot/skyrim_chatbot_latest.keras and /content/drive/MyDrive/chatbot/tokenizer.pkl\n",
            "\u001b[1m313/313\u001b[0m \u001b[32m━━━━━━━━━━━━━━━━━━━━\u001b[0m\u001b[37m\u001b[0m \u001b[1m81s\u001b[0m 166ms/step - accuracy: 0.9074 - loss: 0.4475 - val_accuracy: 0.8991 - val_loss: 0.5102\n",
            "Epoch 31/50\n",
            "\u001b[1m313/313\u001b[0m \u001b[32m━━━━━━━━━━━━━━━━━━━━\u001b[0m\u001b[37m\u001b[0m \u001b[1m0s\u001b[0m 137ms/step - accuracy: 0.9080 - loss: 0.4449✅ Model and Tokenizer saved after epoch 31 at /content/drive/MyDrive/chatbot/skyrim_chatbot_latest.keras and /content/drive/MyDrive/chatbot/tokenizer.pkl\n",
            "\u001b[1m313/313\u001b[0m \u001b[32m━━━━━━━━━━━━━━━━━━━━\u001b[0m\u001b[37m\u001b[0m \u001b[1m81s\u001b[0m 164ms/step - accuracy: 0.9080 - loss: 0.4449 - val_accuracy: 0.8990 - val_loss: 0.5088\n",
            "Epoch 32/50\n",
            "\u001b[1m313/313\u001b[0m \u001b[32m━━━━━━━━━━━━━━━━━━━━\u001b[0m\u001b[37m\u001b[0m \u001b[1m0s\u001b[0m 137ms/step - accuracy: 0.9084 - loss: 0.4420✅ Model and Tokenizer saved after epoch 32 at /content/drive/MyDrive/chatbot/skyrim_chatbot_latest.keras and /content/drive/MyDrive/chatbot/tokenizer.pkl\n",
            "\u001b[1m313/313\u001b[0m \u001b[32m━━━━━━━━━━━━━━━━━━━━\u001b[0m\u001b[37m\u001b[0m \u001b[1m54s\u001b[0m 174ms/step - accuracy: 0.9083 - loss: 0.4421 - val_accuracy: 0.8999 - val_loss: 0.5058\n",
            "Epoch 33/50\n",
            "\u001b[1m313/313\u001b[0m \u001b[32m━━━━━━━━━━━━━━━━━━━━\u001b[0m\u001b[37m\u001b[0m \u001b[1m0s\u001b[0m 138ms/step - accuracy: 0.9080 - loss: 0.4443✅ Model and Tokenizer saved after epoch 33 at /content/drive/MyDrive/chatbot/skyrim_chatbot_latest.keras and /content/drive/MyDrive/chatbot/tokenizer.pkl\n",
            "\u001b[1m313/313\u001b[0m \u001b[32m━━━━━━━━━━━━━━━━━━━━\u001b[0m\u001b[37m\u001b[0m \u001b[1m86s\u001b[0m 187ms/step - accuracy: 0.9080 - loss: 0.4443 - val_accuracy: 0.8998 - val_loss: 0.5062\n",
            "Epoch 34/50\n",
            "\u001b[1m313/313\u001b[0m \u001b[32m━━━━━━━━━━━━━━━━━━━━\u001b[0m\u001b[37m\u001b[0m \u001b[1m0s\u001b[0m 134ms/step - accuracy: 0.9089 - loss: 0.4401✅ Model and Tokenizer saved after epoch 34 at /content/drive/MyDrive/chatbot/skyrim_chatbot_latest.keras and /content/drive/MyDrive/chatbot/tokenizer.pkl\n",
            "\u001b[1m313/313\u001b[0m \u001b[32m━━━━━━━━━━━━━━━━━━━━\u001b[0m\u001b[37m\u001b[0m \u001b[1m85s\u001b[0m 199ms/step - accuracy: 0.9089 - loss: 0.4402 - val_accuracy: 0.9001 - val_loss: 0.5040\n",
            "Epoch 35/50\n",
            "\u001b[1m313/313\u001b[0m \u001b[32m━━━━━━━━━━━━━━━━━━━━\u001b[0m\u001b[37m\u001b[0m \u001b[1m0s\u001b[0m 135ms/step - accuracy: 0.9093 - loss: 0.4382✅ Model and Tokenizer saved after epoch 35 at /content/drive/MyDrive/chatbot/skyrim_chatbot_latest.keras and /content/drive/MyDrive/chatbot/tokenizer.pkl\n",
            "\u001b[1m313/313\u001b[0m \u001b[32m━━━━━━━━━━━━━━━━━━━━\u001b[0m\u001b[37m\u001b[0m \u001b[1m54s\u001b[0m 172ms/step - accuracy: 0.9093 - loss: 0.4382 - val_accuracy: 0.9006 - val_loss: 0.5029\n",
            "Epoch 36/50\n",
            "\u001b[1m313/313\u001b[0m \u001b[32m━━━━━━━━━━━━━━━━━━━━\u001b[0m\u001b[37m\u001b[0m \u001b[1m0s\u001b[0m 134ms/step - accuracy: 0.9098 - loss: 0.4357✅ Model and Tokenizer saved after epoch 36 at /content/drive/MyDrive/chatbot/skyrim_chatbot_latest.keras and /content/drive/MyDrive/chatbot/tokenizer.pkl\n",
            "\u001b[1m313/313\u001b[0m \u001b[32m━━━━━━━━━━━━━━━━━━━━\u001b[0m\u001b[37m\u001b[0m \u001b[1m81s\u001b[0m 168ms/step - accuracy: 0.9098 - loss: 0.4357 - val_accuracy: 0.9012 - val_loss: 0.5016\n",
            "Epoch 37/50\n",
            "\u001b[1m313/313\u001b[0m \u001b[32m━━━━━━━━━━━━━━━━━━━━\u001b[0m\u001b[37m\u001b[0m \u001b[1m0s\u001b[0m 133ms/step - accuracy: 0.9102 - loss: 0.4343✅ Model and Tokenizer saved after epoch 37 at /content/drive/MyDrive/chatbot/skyrim_chatbot_latest.keras and /content/drive/MyDrive/chatbot/tokenizer.pkl\n",
            "\u001b[1m313/313\u001b[0m \u001b[32m━━━━━━━━━━━━━━━━━━━━\u001b[0m\u001b[37m\u001b[0m \u001b[1m85s\u001b[0m 179ms/step - accuracy: 0.9102 - loss: 0.4343 - val_accuracy: 0.9014 - val_loss: 0.5002\n",
            "Epoch 38/50\n",
            "\u001b[1m313/313\u001b[0m \u001b[32m━━━━━━━━━━━━━━━━━━━━\u001b[0m\u001b[37m\u001b[0m \u001b[1m0s\u001b[0m 137ms/step - accuracy: 0.9117 - loss: 0.4263✅ Model and Tokenizer saved after epoch 38 at /content/drive/MyDrive/chatbot/skyrim_chatbot_latest.keras and /content/drive/MyDrive/chatbot/tokenizer.pkl\n",
            "\u001b[1m313/313\u001b[0m \u001b[32m━━━━━━━━━━━━━━━━━━━━\u001b[0m\u001b[37m\u001b[0m \u001b[1m84s\u001b[0m 185ms/step - accuracy: 0.9117 - loss: 0.4263 - val_accuracy: 0.9013 - val_loss: 0.5002\n",
            "Epoch 39/50\n",
            "\u001b[1m313/313\u001b[0m \u001b[32m━━━━━━━━━━━━━━━━━━━━\u001b[0m\u001b[37m\u001b[0m \u001b[1m0s\u001b[0m 136ms/step - accuracy: 0.9108 - loss: 0.4288✅ Model and Tokenizer saved after epoch 39 at /content/drive/MyDrive/chatbot/skyrim_chatbot_latest.keras and /content/drive/MyDrive/chatbot/tokenizer.pkl\n",
            "\u001b[1m313/313\u001b[0m \u001b[32m━━━━━━━━━━━━━━━━━━━━\u001b[0m\u001b[37m\u001b[0m \u001b[1m77s\u001b[0m 170ms/step - accuracy: 0.9108 - loss: 0.4288 - val_accuracy: 0.9014 - val_loss: 0.4997\n",
            "Epoch 40/50\n",
            "\u001b[1m313/313\u001b[0m \u001b[32m━━━━━━━━━━━━━━━━━━━━\u001b[0m\u001b[37m\u001b[0m \u001b[1m0s\u001b[0m 136ms/step - accuracy: 0.9114 - loss: 0.4279✅ Model and Tokenizer saved after epoch 40 at /content/drive/MyDrive/chatbot/skyrim_chatbot_latest.keras and /content/drive/MyDrive/chatbot/tokenizer.pkl\n",
            "\u001b[1m313/313\u001b[0m \u001b[32m━━━━━━━━━━━━━━━━━━━━\u001b[0m\u001b[37m\u001b[0m \u001b[1m77s\u001b[0m 155ms/step - accuracy: 0.9114 - loss: 0.4279 - val_accuracy: 0.9019 - val_loss: 0.5015\n",
            "Epoch 41/50\n",
            "\u001b[1m313/313\u001b[0m \u001b[32m━━━━━━━━━━━━━━━━━━━━\u001b[0m\u001b[37m\u001b[0m \u001b[1m0s\u001b[0m 135ms/step - accuracy: 0.9115 - loss: 0.4253✅ Model and Tokenizer saved after epoch 41 at /content/drive/MyDrive/chatbot/skyrim_chatbot_latest.keras and /content/drive/MyDrive/chatbot/tokenizer.pkl\n",
            "\u001b[1m313/313\u001b[0m \u001b[32m━━━━━━━━━━━━━━━━━━━━\u001b[0m\u001b[37m\u001b[0m \u001b[1m85s\u001b[0m 166ms/step - accuracy: 0.9115 - loss: 0.4253 - val_accuracy: 0.9018 - val_loss: 0.5005\n",
            "Epoch 42/50\n",
            "\u001b[1m313/313\u001b[0m \u001b[32m━━━━━━━━━━━━━━━━━━━━\u001b[0m\u001b[37m\u001b[0m \u001b[1m0s\u001b[0m 135ms/step - accuracy: 0.9120 - loss: 0.4252✅ Model and Tokenizer saved after epoch 42 at /content/drive/MyDrive/chatbot/skyrim_chatbot_latest.keras and /content/drive/MyDrive/chatbot/tokenizer.pkl\n",
            "\u001b[1m313/313\u001b[0m \u001b[32m━━━━━━━━━━━━━━━━━━━━\u001b[0m\u001b[37m\u001b[0m \u001b[1m90s\u001b[0m 191ms/step - accuracy: 0.9120 - loss: 0.4252 - val_accuracy: 0.9019 - val_loss: 0.4984\n",
            "Epoch 43/50\n",
            "\u001b[1m313/313\u001b[0m \u001b[32m━━━━━━━━━━━━━━━━━━━━\u001b[0m\u001b[37m\u001b[0m \u001b[1m0s\u001b[0m 136ms/step - accuracy: 0.9125 - loss: 0.4211✅ Model and Tokenizer saved after epoch 43 at /content/drive/MyDrive/chatbot/skyrim_chatbot_latest.keras and /content/drive/MyDrive/chatbot/tokenizer.pkl\n",
            "\u001b[1m313/313\u001b[0m \u001b[32m━━━━━━━━━━━━━━━━━━━━\u001b[0m\u001b[37m\u001b[0m \u001b[1m75s\u001b[0m 171ms/step - accuracy: 0.9125 - loss: 0.4211 - val_accuracy: 0.9023 - val_loss: 0.4986\n",
            "Epoch 44/50\n",
            "\u001b[1m313/313\u001b[0m \u001b[32m━━━━━━━━━━━━━━━━━━━━\u001b[0m\u001b[37m\u001b[0m \u001b[1m0s\u001b[0m 136ms/step - accuracy: 0.9137 - loss: 0.4136✅ Model and Tokenizer saved after epoch 44 at /content/drive/MyDrive/chatbot/skyrim_chatbot_latest.keras and /content/drive/MyDrive/chatbot/tokenizer.pkl\n",
            "\u001b[1m313/313\u001b[0m \u001b[32m━━━━━━━━━━━━━━━━━━━━\u001b[0m\u001b[37m\u001b[0m \u001b[1m82s\u001b[0m 171ms/step - accuracy: 0.9137 - loss: 0.4136 - val_accuracy: 0.9021 - val_loss: 0.4993\n",
            "Epoch 45/50\n",
            "\u001b[1m313/313\u001b[0m \u001b[32m━━━━━━━━━━━━━━━━━━━━\u001b[0m\u001b[37m\u001b[0m \u001b[1m0s\u001b[0m 135ms/step - accuracy: 0.9133 - loss: 0.4173✅ Model and Tokenizer saved after epoch 45 at /content/drive/MyDrive/chatbot/skyrim_chatbot_latest.keras and /content/drive/MyDrive/chatbot/tokenizer.pkl\n",
            "\u001b[1m313/313\u001b[0m \u001b[32m━━━━━━━━━━━━━━━━━━━━\u001b[0m\u001b[37m\u001b[0m \u001b[1m52s\u001b[0m 166ms/step - accuracy: 0.9133 - loss: 0.4173 - val_accuracy: 0.9025 - val_loss: 0.4959\n",
            "Epoch 46/50\n",
            "\u001b[1m313/313\u001b[0m \u001b[32m━━━━━━━━━━━━━━━━━━━━\u001b[0m\u001b[37m\u001b[0m \u001b[1m0s\u001b[0m 136ms/step - accuracy: 0.9137 - loss: 0.4129✅ Model and Tokenizer saved after epoch 46 at /content/drive/MyDrive/chatbot/skyrim_chatbot_latest.keras and /content/drive/MyDrive/chatbot/tokenizer.pkl\n",
            "\u001b[1m313/313\u001b[0m \u001b[32m━━━━━━━━━━━━━━━━━━━━\u001b[0m\u001b[37m\u001b[0m \u001b[1m50s\u001b[0m 159ms/step - accuracy: 0.9136 - loss: 0.4130 - val_accuracy: 0.9025 - val_loss: 0.4977\n",
            "Epoch 47/50\n",
            "\u001b[1m313/313\u001b[0m \u001b[32m━━━━━━━━━━━━━━━━━━━━\u001b[0m\u001b[37m\u001b[0m \u001b[1m0s\u001b[0m 135ms/step - accuracy: 0.9130 - loss: 0.4164✅ Model and Tokenizer saved after epoch 47 at /content/drive/MyDrive/chatbot/skyrim_chatbot_latest.keras and /content/drive/MyDrive/chatbot/tokenizer.pkl\n",
            "\u001b[1m313/313\u001b[0m \u001b[32m━━━━━━━━━━━━━━━━━━━━\u001b[0m\u001b[37m\u001b[0m \u001b[1m87s\u001b[0m 174ms/step - accuracy: 0.9130 - loss: 0.4165 - val_accuracy: 0.9023 - val_loss: 0.4994\n",
            "Epoch 48/50\n",
            "\u001b[1m313/313\u001b[0m \u001b[32m━━━━━━━━━━━━━━━━━━━━\u001b[0m\u001b[37m\u001b[0m \u001b[1m0s\u001b[0m 135ms/step - accuracy: 0.9135 - loss: 0.4159✅ Model and Tokenizer saved after epoch 48 at /content/drive/MyDrive/chatbot/skyrim_chatbot_latest.keras and /content/drive/MyDrive/chatbot/tokenizer.pkl\n",
            "\u001b[1m313/313\u001b[0m \u001b[32m━━━━━━━━━━━━━━━━━━━━\u001b[0m\u001b[37m\u001b[0m \u001b[1m75s\u001b[0m 153ms/step - accuracy: 0.9135 - loss: 0.4159 - val_accuracy: 0.9022 - val_loss: 0.4984\n",
            "Epoch 49/50\n",
            "\u001b[1m313/313\u001b[0m \u001b[32m━━━━━━━━━━━━━━━━━━━━\u001b[0m\u001b[37m\u001b[0m \u001b[1m0s\u001b[0m 135ms/step - accuracy: 0.9146 - loss: 0.4101✅ Model and Tokenizer saved after epoch 49 at /content/drive/MyDrive/chatbot/skyrim_chatbot_latest.keras and /content/drive/MyDrive/chatbot/tokenizer.pkl\n",
            "\u001b[1m313/313\u001b[0m \u001b[32m━━━━━━━━━━━━━━━━━━━━\u001b[0m\u001b[37m\u001b[0m \u001b[1m83s\u001b[0m 157ms/step - accuracy: 0.9146 - loss: 0.4101 - val_accuracy: 0.9023 - val_loss: 0.4983\n",
            "Epoch 50/50\n",
            "\u001b[1m313/313\u001b[0m \u001b[32m━━━━━━━━━━━━━━━━━━━━\u001b[0m\u001b[37m\u001b[0m \u001b[1m0s\u001b[0m 135ms/step - accuracy: 0.9138 - loss: 0.4137✅ Model and Tokenizer saved after epoch 50 at /content/drive/MyDrive/chatbot/skyrim_chatbot_latest.keras and /content/drive/MyDrive/chatbot/tokenizer.pkl\n",
            "\u001b[1m313/313\u001b[0m \u001b[32m━━━━━━━━━━━━━━━━━━━━\u001b[0m\u001b[37m\u001b[0m \u001b[1m80s\u001b[0m 153ms/step - accuracy: 0.9138 - loss: 0.4138 - val_accuracy: 0.9025 - val_loss: 0.4992\n"
          ]
        },
        {
          "ename": "NameError",
          "evalue": "name 'model' is not defined",
          "output_type": "error",
          "traceback": [
            "\u001b[0;31m---------------------------------------------------------------------------\u001b[0m",
            "\u001b[0;31mNameError\u001b[0m                                 Traceback (most recent call last)",
            "\u001b[0;32m<ipython-input-22-317eeea82bc9>\u001b[0m in \u001b[0;36m<cell line: 0>\u001b[0;34m()\u001b[0m\n\u001b[1;32m     21\u001b[0m     \u001b[0;31m# Save the final model to Google Drive\u001b[0m\u001b[0;34m\u001b[0m\u001b[0;34m\u001b[0m\u001b[0m\n\u001b[1;32m     22\u001b[0m     \u001b[0mfinal_model_path\u001b[0m \u001b[0;34m=\u001b[0m \u001b[0mos\u001b[0m\u001b[0;34m.\u001b[0m\u001b[0mpath\u001b[0m\u001b[0;34m.\u001b[0m\u001b[0mjoin\u001b[0m\u001b[0;34m(\u001b[0m\u001b[0mdrive_save_path\u001b[0m\u001b[0;34m,\u001b[0m \u001b[0;34m\"skyrim_chatbot_glove_final.keras\"\u001b[0m\u001b[0;34m)\u001b[0m\u001b[0;34m\u001b[0m\u001b[0;34m\u001b[0m\u001b[0m\n\u001b[0;32m---> 23\u001b[0;31m     \u001b[0mmodel\u001b[0m\u001b[0;34m.\u001b[0m\u001b[0msave\u001b[0m\u001b[0;34m(\u001b[0m\u001b[0mfinal_model_path\u001b[0m\u001b[0;34m)\u001b[0m\u001b[0;34m\u001b[0m\u001b[0;34m\u001b[0m\u001b[0m\n\u001b[0m\u001b[1;32m     24\u001b[0m     \u001b[0mprint\u001b[0m\u001b[0;34m(\u001b[0m\u001b[0;34mf\"✅ Model training complete! Best model saved as {final_model_path}\"\u001b[0m\u001b[0;34m)\u001b[0m\u001b[0;34m\u001b[0m\u001b[0;34m\u001b[0m\u001b[0m\n\u001b[1;32m     25\u001b[0m \u001b[0;34m\u001b[0m\u001b[0m\n",
            "\u001b[0;31mNameError\u001b[0m: name 'model' is not defined"
          ]
        }
      ],
      "source": [
        "callbacks = [\n",
        "    EarlyStopping(monitor='val_loss', patience=8, restore_best_weights=True),\n",
        "    ModelCheckpoint(os.path.join(drive_save_path, \"skyrim_chatbot_glove_best.keras\"), save_best_only=True, save_weights_only=False),\n",
        "    SaveModelAndTokenizerCallback()\n",
        "]\n",
        "\n",
        "try:\n",
        "    epochs = 50\n",
        "    batch_size = 128\n",
        "\n",
        "    history = model2.fit(\n",
        "        X_train, y_train,\n",
        "        epochs=epochs,\n",
        "        batch_size=batch_size,\n",
        "        validation_data=(X_val, y_val),\n",
        "        callbacks=callbacks\n",
        "    )\n",
        "\n",
        "    final_model_path = os.path.join(drive_save_path, \"skyrim_chatbot_glove_final.keras\")\n",
        "    model2.save(final_model_path)\n",
        "    print(f\"✅ Model training complete! Best model saved as {final_model_path}\")\n",
        "\n",
        "except KeyboardInterrupt:\n",
        "    print(\"\\n⚠️ Training interrupted! Saving latest model before exiting...\")\n",
        "    latest_model_path = os.path.join(drive_save_path, \"skyrim_chatbot_glove_latest.keras\")\n",
        "    model2.save(latest_model_path)\n",
        "    print(f\"✅ Latest model saved as {latest_model_path}\")\n"
      ]
    },
    {
      "cell_type": "markdown",
      "metadata": {},
      "source": [
        "# **Response Generation Function (THESE 2 CELLS SAME AS MODEL 1)**"
      ]
    },
    {
      "cell_type": "code",
      "execution_count": null,
      "metadata": {},
      "outputs": [],
      "source": [
        "def generate_response(player_input, model2, tokenizer, max_sequence_length):\n",
        "    input_seq = tokenizer.texts_to_sequences([player_input])\n",
        "    input_seq = pad_sequences(input_seq, maxlen=max_sequence_length, padding='post')\n",
        "\n",
        "    predicted_seq = model2.predict(input_seq)\n",
        "    predicted_seq = np.argmax(predicted_seq, axis=-1)\n",
        "\n",
        "    response = tokenizer.sequences_to_texts(predicted_seq)[0]\n",
        "\n",
        "    if not response or response in [\"<OOV>\", \"\"]:\n",
        "        return \"I am not sure, traveler. Perhaps the answer lies elsewhere.\"\n",
        "\n",
        "    return response\n"
      ]
    },
    {
      "cell_type": "markdown",
      "metadata": {},
      "source": [
        "# **Chatbot Interaction Loop**"
      ]
    },
    {
      "cell_type": "code",
      "execution_count": null,
      "metadata": {},
      "outputs": [],
      "source": [
        "try:\n",
        "    print(\"Welcome to the Elder Scrolls NPC Chatbot! Type 'exit' or 'quit' to end the conversation.\")\n",
        "    while True:\n",
        "        user_input = input(\"You: \").strip().lower()\n",
        "        if user_input in [\"exit\", \"quit\"]:\n",
        "            print(\"NPC: Farewell, traveler. May the blessings of the Tribunal be with you!\")\n",
        "            break\n",
        "\n",
        "        response = generate_response(user_input, model, tokenizer, max_len)\n",
        "        print(f\"NPC: {response}\")\n",
        "\n",
        "except KeyboardInterrupt:\n",
        "    print(\"\\n⚠️ Chatbot interrupted! Saving latest model before exiting...\")\n",
        "    latest_model_path = os.path.join(drive_save_path, \"skyrim_chatbot_latest.keras\")\n",
        "    model.save(latest_model_path)\n",
        "    print(f\"✅ Latest model saved as {latest_model_path}\")\n",
        "    print(\"NPC: Farewell, traveler. May the blessings of the Tribunal be with you!\")\n"
      ]
    },
    {
      "cell_type": "markdown",
      "metadata": {
        "id": "bwI5QcABWXTi"
      },
      "source": [
        "## **DistilGPT2**"
      ]
    },
    {
      "cell_type": "markdown",
      "metadata": {},
      "source": [
        "*THIS IS STANDALONE TRAINING FIRST INSTALL THEN RUN ALL THE RESPECTIVE CELLS*"
      ]
    },
    {
      "cell_type": "code",
      "execution_count": null,
      "metadata": {
        "colab": {
          "base_uri": "https://localhost:8080/"
        },
        "id": "X3meePAFWaIl",
        "outputId": "faf369f5-f432-4928-dbb3-2ca0713afdbb"
      },
      "outputs": [
        {
          "name": "stdout",
          "output_type": "stream",
          "text": [
            "Requirement already satisfied: transformers in /usr/local/lib/python3.11/dist-packages (4.50.3)\n",
            "Collecting datasets\n",
            "  Downloading datasets-3.5.0-py3-none-any.whl.metadata (19 kB)\n",
            "Requirement already satisfied: filelock in /usr/local/lib/python3.11/dist-packages (from transformers) (3.18.0)\n",
            "Requirement already satisfied: huggingface-hub<1.0,>=0.26.0 in /usr/local/lib/python3.11/dist-packages (from transformers) (0.30.1)\n",
            "Requirement already satisfied: numpy>=1.17 in /usr/local/lib/python3.11/dist-packages (from transformers) (2.0.2)\n",
            "Requirement already satisfied: packaging>=20.0 in /usr/local/lib/python3.11/dist-packages (from transformers) (24.2)\n",
            "Requirement already satisfied: pyyaml>=5.1 in /usr/local/lib/python3.11/dist-packages (from transformers) (6.0.2)\n",
            "Requirement already satisfied: regex!=2019.12.17 in /usr/local/lib/python3.11/dist-packages (from transformers) (2024.11.6)\n",
            "Requirement already satisfied: requests in /usr/local/lib/python3.11/dist-packages (from transformers) (2.32.3)\n",
            "Requirement already satisfied: tokenizers<0.22,>=0.21 in /usr/local/lib/python3.11/dist-packages (from transformers) (0.21.1)\n",
            "Requirement already satisfied: safetensors>=0.4.3 in /usr/local/lib/python3.11/dist-packages (from transformers) (0.5.3)\n",
            "Requirement already satisfied: tqdm>=4.27 in /usr/local/lib/python3.11/dist-packages (from transformers) (4.67.1)\n",
            "Requirement already satisfied: pyarrow>=15.0.0 in /usr/local/lib/python3.11/dist-packages (from datasets) (18.1.0)\n",
            "Collecting dill<0.3.9,>=0.3.0 (from datasets)\n",
            "  Downloading dill-0.3.8-py3-none-any.whl.metadata (10 kB)\n",
            "Requirement already satisfied: pandas in /usr/local/lib/python3.11/dist-packages (from datasets) (2.2.2)\n",
            "Collecting xxhash (from datasets)\n",
            "  Downloading xxhash-3.5.0-cp311-cp311-manylinux_2_17_x86_64.manylinux2014_x86_64.whl.metadata (12 kB)\n",
            "Collecting multiprocess<0.70.17 (from datasets)\n",
            "  Downloading multiprocess-0.70.16-py311-none-any.whl.metadata (7.2 kB)\n",
            "Collecting fsspec<=2024.12.0,>=2023.1.0 (from fsspec[http]<=2024.12.0,>=2023.1.0->datasets)\n",
            "  Downloading fsspec-2024.12.0-py3-none-any.whl.metadata (11 kB)\n",
            "Requirement already satisfied: aiohttp in /usr/local/lib/python3.11/dist-packages (from datasets) (3.11.15)\n",
            "Requirement already satisfied: aiohappyeyeballs>=2.3.0 in /usr/local/lib/python3.11/dist-packages (from aiohttp->datasets) (2.6.1)\n",
            "Requirement already satisfied: aiosignal>=1.1.2 in /usr/local/lib/python3.11/dist-packages (from aiohttp->datasets) (1.3.2)\n",
            "Requirement already satisfied: attrs>=17.3.0 in /usr/local/lib/python3.11/dist-packages (from aiohttp->datasets) (25.3.0)\n",
            "Requirement already satisfied: frozenlist>=1.1.1 in /usr/local/lib/python3.11/dist-packages (from aiohttp->datasets) (1.5.0)\n",
            "Requirement already satisfied: multidict<7.0,>=4.5 in /usr/local/lib/python3.11/dist-packages (from aiohttp->datasets) (6.3.2)\n",
            "Requirement already satisfied: propcache>=0.2.0 in /usr/local/lib/python3.11/dist-packages (from aiohttp->datasets) (0.3.1)\n",
            "Requirement already satisfied: yarl<2.0,>=1.17.0 in /usr/local/lib/python3.11/dist-packages (from aiohttp->datasets) (1.18.3)\n",
            "Requirement already satisfied: typing-extensions>=3.7.4.3 in /usr/local/lib/python3.11/dist-packages (from huggingface-hub<1.0,>=0.26.0->transformers) (4.13.1)\n",
            "Requirement already satisfied: charset-normalizer<4,>=2 in /usr/local/lib/python3.11/dist-packages (from requests->transformers) (3.4.1)\n",
            "Requirement already satisfied: idna<4,>=2.5 in /usr/local/lib/python3.11/dist-packages (from requests->transformers) (3.10)\n",
            "Requirement already satisfied: urllib3<3,>=1.21.1 in /usr/local/lib/python3.11/dist-packages (from requests->transformers) (2.3.0)\n",
            "Requirement already satisfied: certifi>=2017.4.17 in /usr/local/lib/python3.11/dist-packages (from requests->transformers) (2025.1.31)\n",
            "Requirement already satisfied: python-dateutil>=2.8.2 in /usr/local/lib/python3.11/dist-packages (from pandas->datasets) (2.8.2)\n",
            "Requirement already satisfied: pytz>=2020.1 in /usr/local/lib/python3.11/dist-packages (from pandas->datasets) (2025.2)\n",
            "Requirement already satisfied: tzdata>=2022.7 in /usr/local/lib/python3.11/dist-packages (from pandas->datasets) (2025.2)\n",
            "Requirement already satisfied: six>=1.5 in /usr/local/lib/python3.11/dist-packages (from python-dateutil>=2.8.2->pandas->datasets) (1.17.0)\n",
            "Downloading datasets-3.5.0-py3-none-any.whl (491 kB)\n",
            "\u001b[2K   \u001b[90m━━━━━━━━━━━━━━━━━━━━━━━━━━━━━━━━━━━━━━━━\u001b[0m \u001b[32m491.2/491.2 kB\u001b[0m \u001b[31m34.0 MB/s\u001b[0m eta \u001b[36m0:00:00\u001b[0m\n",
            "\u001b[?25hDownloading dill-0.3.8-py3-none-any.whl (116 kB)\n",
            "\u001b[2K   \u001b[90m━━━━━━━━━━━━━━━━━━━━━━━━━━━━━━━━━━━━━━━━\u001b[0m \u001b[32m116.3/116.3 kB\u001b[0m \u001b[31m11.4 MB/s\u001b[0m eta \u001b[36m0:00:00\u001b[0m\n",
            "\u001b[?25hDownloading fsspec-2024.12.0-py3-none-any.whl (183 kB)\n",
            "\u001b[2K   \u001b[90m━━━━━━━━━━━━━━━━━━━━━━━━━━━━━━━━━━━━━━━━\u001b[0m \u001b[32m183.9/183.9 kB\u001b[0m \u001b[31m18.3 MB/s\u001b[0m eta \u001b[36m0:00:00\u001b[0m\n",
            "\u001b[?25hDownloading multiprocess-0.70.16-py311-none-any.whl (143 kB)\n",
            "\u001b[2K   \u001b[90m━━━━━━━━━━━━━━━━━━━━━━━━━━━━━━━━━━━━━━━━\u001b[0m \u001b[32m143.5/143.5 kB\u001b[0m \u001b[31m14.4 MB/s\u001b[0m eta \u001b[36m0:00:00\u001b[0m\n",
            "\u001b[?25hDownloading xxhash-3.5.0-cp311-cp311-manylinux_2_17_x86_64.manylinux2014_x86_64.whl (194 kB)\n",
            "\u001b[2K   \u001b[90m━━━━━━━━━━━━━━━━━━━━━━━━━━━━━━━━━━━━━━━━\u001b[0m \u001b[32m194.8/194.8 kB\u001b[0m \u001b[31m17.3 MB/s\u001b[0m eta \u001b[36m0:00:00\u001b[0m\n",
            "\u001b[?25hInstalling collected packages: xxhash, fsspec, dill, multiprocess, datasets\n",
            "  Attempting uninstall: fsspec\n",
            "    Found existing installation: fsspec 2025.3.2\n",
            "    Uninstalling fsspec-2025.3.2:\n",
            "      Successfully uninstalled fsspec-2025.3.2\n",
            "\u001b[31mERROR: pip's dependency resolver does not currently take into account all the packages that are installed. This behaviour is the source of the following dependency conflicts.\n",
            "torch 2.6.0+cu124 requires nvidia-cublas-cu12==12.4.5.8; platform_system == \"Linux\" and platform_machine == \"x86_64\", but you have nvidia-cublas-cu12 12.5.3.2 which is incompatible.\n",
            "torch 2.6.0+cu124 requires nvidia-cuda-cupti-cu12==12.4.127; platform_system == \"Linux\" and platform_machine == \"x86_64\", but you have nvidia-cuda-cupti-cu12 12.5.82 which is incompatible.\n",
            "torch 2.6.0+cu124 requires nvidia-cuda-nvrtc-cu12==12.4.127; platform_system == \"Linux\" and platform_machine == \"x86_64\", but you have nvidia-cuda-nvrtc-cu12 12.5.82 which is incompatible.\n",
            "torch 2.6.0+cu124 requires nvidia-cuda-runtime-cu12==12.4.127; platform_system == \"Linux\" and platform_machine == \"x86_64\", but you have nvidia-cuda-runtime-cu12 12.5.82 which is incompatible.\n",
            "torch 2.6.0+cu124 requires nvidia-cudnn-cu12==9.1.0.70; platform_system == \"Linux\" and platform_machine == \"x86_64\", but you have nvidia-cudnn-cu12 9.3.0.75 which is incompatible.\n",
            "torch 2.6.0+cu124 requires nvidia-cufft-cu12==11.2.1.3; platform_system == \"Linux\" and platform_machine == \"x86_64\", but you have nvidia-cufft-cu12 11.2.3.61 which is incompatible.\n",
            "torch 2.6.0+cu124 requires nvidia-curand-cu12==10.3.5.147; platform_system == \"Linux\" and platform_machine == \"x86_64\", but you have nvidia-curand-cu12 10.3.6.82 which is incompatible.\n",
            "torch 2.6.0+cu124 requires nvidia-cusolver-cu12==11.6.1.9; platform_system == \"Linux\" and platform_machine == \"x86_64\", but you have nvidia-cusolver-cu12 11.6.3.83 which is incompatible.\n",
            "torch 2.6.0+cu124 requires nvidia-cusparse-cu12==12.3.1.170; platform_system == \"Linux\" and platform_machine == \"x86_64\", but you have nvidia-cusparse-cu12 12.5.1.3 which is incompatible.\n",
            "torch 2.6.0+cu124 requires nvidia-nvjitlink-cu12==12.4.127; platform_system == \"Linux\" and platform_machine == \"x86_64\", but you have nvidia-nvjitlink-cu12 12.5.82 which is incompatible.\n",
            "gcsfs 2025.3.2 requires fsspec==2025.3.2, but you have fsspec 2024.12.0 which is incompatible.\u001b[0m\u001b[31m\n",
            "\u001b[0mSuccessfully installed datasets-3.5.0 dill-0.3.8 fsspec-2024.12.0 multiprocess-0.70.16 xxhash-3.5.0\n"
          ]
        }
      ],
      "source": [
        "!pip install transformers datasets\n",
        "!pip install -U transformers"
      ]
    },
    {
      "cell_type": "code",
      "execution_count": null,
      "metadata": {
        "id": "l9jZGqLkWa65"
      },
      "outputs": [],
      "source": [
        "from datasets import Dataset\n",
        "import pandas as pd\n",
        "\n",
        "# Load dataset\n",
        "file_path = \"/content/drive/MyDrive/chatbot/dataset_final.csv\"\n",
        "df = pd.read_csv(file_path)\n",
        "\n",
        "# Clean text\n",
        "df['Player Input'] = df['Player Input'].astype(str).str.lower().str.strip()\n",
        "df['NPC Response'] = df['NPC Response'].astype(str).str.lower().str.strip()\n",
        "\n",
        "# Combine input and response (for causal language modeling)\n",
        "conversations = [\n",
        "    {\"text\": f\"{inp} {res}\"}\n",
        "    for inp, res in zip(df['Player Input'], df['NPC Response'])\n",
        "]\n",
        "\n",
        "# Convert to HuggingFace dataset\n",
        "dataset = Dataset.from_list(conversations)"
      ]
    },
    {
      "cell_type": "code",
      "execution_count": null,
      "metadata": {
        "id": "SCTQpn-QWgAJ"
      },
      "outputs": [],
      "source": [
        "from transformers import AutoTokenizer\n",
        "\n",
        "tokenizer = AutoTokenizer.from_pretrained(\"distilgpt2\")\n",
        "tokenizer.pad_token = tokenizer.eos_token\n"
      ]
    },
    {
      "cell_type": "code",
      "execution_count": null,
      "metadata": {
        "colab": {
          "base_uri": "https://localhost:8080/",
          "height": 49,
          "referenced_widgets": [
            "6cd3c6ec273740f5a723e24ad9b3b8dd",
            "e5ec954969ff48c7a20942cd4c77ff18",
            "1f5a3c7e664a49c6a8a7f4d8deb40a61",
            "59e727b33bab4d50b212acb2f625c821",
            "8934ec688ca341e0ad91ce12b67a0b40",
            "5d0b9cc174ca4163afef15d60d4c1f37",
            "de93675d2ecf4d768cfbf94b2a39461c",
            "5e4fd37fde7e43968e6de2767dc23ceb",
            "d20a071b44834d9ea6e5c3c36ab608e6",
            "8a7601be8f634ffca508c1d83e96cc9d",
            "d459d242e5be434b80dffb1a5ce24c1e"
          ]
        },
        "id": "WQ3cD4b8WhS2",
        "outputId": "9b6bc777-0992-495d-9c28-589e5b345ac6"
      },
      "outputs": [
        {
          "data": {
            "application/vnd.jupyter.widget-view+json": {
              "model_id": "6cd3c6ec273740f5a723e24ad9b3b8dd",
              "version_major": 2,
              "version_minor": 0
            },
            "text/plain": [
              "Map:   0%|          | 0/50000 [00:00<?, ? examples/s]"
            ]
          },
          "metadata": {},
          "output_type": "display_data"
        }
      ],
      "source": [
        "def tokenize(example):\n",
        "    tokens = tokenizer(\n",
        "        example[\"text\"],\n",
        "        truncation=True,\n",
        "        padding=\"max_length\",\n",
        "        max_length=128\n",
        "    )\n",
        "    tokens[\"labels\"] = tokens[\"input_ids\"].copy()\n",
        "    return tokens\n",
        "\n",
        "tokenized_dataset = dataset.map(tokenize)\n",
        "tokenized_dataset.set_format(type=\"torch\", columns=[\"input_ids\", \"attention_mask\", \"labels\"])\n"
      ]
    },
    {
      "cell_type": "code",
      "execution_count": null,
      "metadata": {
        "id": "jhzNnFwypn-A"
      },
      "outputs": [],
      "source": [
        "import torch\n",
        "import math\n",
        "\n",
        "def compute_metrics(p):\n",
        "    predictions, labels = p\n",
        "\n",
        "    logits = predictions[0] if isinstance(predictions, tuple) else predictions\n",
        "\n",
        "    logits = logits[:, :-1, :].contiguous()\n",
        "    labels = labels[:, 1:].contiguous()\n",
        "\n",
        "    loss_fct = torch.nn.CrossEntropyLoss(ignore_index=-100)\n",
        "    loss = loss_fct(logits.view(-1, logits.size(-1)), labels.view(-1))\n",
        "\n",
        "    try:\n",
        "        perplexity = torch.exp(loss)\n",
        "    except OverflowError:\n",
        "        perplexity = torch.tensor(float(\"inf\"))\n",
        "\n",
        "    return {\n",
        "        \"loss\": loss.item(),\n",
        "        \"perplexity\": perplexity.item()\n",
        "    }\n"
      ]
    },
    {
      "cell_type": "code",
      "execution_count": null,
      "metadata": {
        "colab": {
          "base_uri": "https://localhost:8080/"
        },
        "id": "ubgwIvtRWiUe",
        "outputId": "2b5d341d-cbc0-4c09-a9c2-430e15cd41f5"
      },
      "outputs": [
        {
          "name": "stderr",
          "output_type": "stream",
          "text": [
            "/usr/local/lib/python3.11/dist-packages/transformers/training_args.py:1611: FutureWarning: `evaluation_strategy` is deprecated and will be removed in version 4.46 of 🤗 Transformers. Use `eval_strategy` instead\n",
            "  warnings.warn(\n"
          ]
        }
      ],
      "source": [
        "from transformers import GPT2LMHeadModel, Trainer, TrainingArguments, TrainerCallback\n",
        "import os\n",
        "\n",
        "model = GPT2LMHeadModel.from_pretrained(\"distilgpt2\")\n",
        "\n",
        "\n",
        "class SaveModelAndTokenizerCallback(TrainerCallback):\n",
        "    def __init__(self, tokenizer):\n",
        "        self.tokenizer = tokenizer\n",
        "\n",
        "    def on_train_begin(self, args, state, control, **kwargs):\n",
        "        pass\n",
        "\n",
        "    def on_epoch_end(self, args, state, control, model=None, **kwargs):\n",
        "        save_dir = \"/content/drive/MyDrive/chatbot/gpt2_output1\"\n",
        "\n",
        "        os.makedirs(save_dir, exist_ok=True)\n",
        "\n",
        "        model.save_pretrained(save_dir)\n",
        "        self.tokenizer.save_pretrained(save_dir)\n",
        "\n",
        "        print(f\"✅ Model and Tokenizer overwritten at {save_dir} after epoch {state.epoch}\")\n",
        "\n",
        "save_callback = SaveModelAndTokenizerCallback(tokenizer=tokenizer)\n",
        "\n",
        "training_args = TrainingArguments(\n",
        "    output_dir=\"/content/drive/MyDrive/chatbot/gpt2_output1\",\n",
        "    per_device_train_batch_size=2,\n",
        "    num_train_epochs=1, # CHANGE EPOCHS BASED ON UR HARDWARE SAME FOR BATCH SIZE\n",
        "    logging_dir='./logs',\n",
        "    save_total_limit=2,\n",
        "    save_strategy=\"epoch\",\n",
        "    eval_steps=100,\n",
        "    logging_steps=50,\n",
        "    report_to=\"none\"\n",
        ")\n",
        "\n",
        "trainer = Trainer(\n",
        "    model=model,\n",
        "    args=training_args,\n",
        "    train_dataset=tokenized_dataset,\n",
        "    eval_dataset=tokenized_dataset,\n",
        "    callbacks=[save_callback],\n",
        "    compute_metrics=compute_metrics\n",
        ")\n"
      ]
    },
    {
      "cell_type": "code",
      "execution_count": null,
      "metadata": {
        "colab": {
          "base_uri": "https://localhost:8080/",
          "height": 1000
        },
        "id": "RnRiVfoiWkTm",
        "outputId": "20a06560-b981-4b00-c994-291ae7d056de"
      },
      "outputs": [
        {
          "data": {
            "text/html": [
              "\n",
              "    <div>\n",
              "      \n",
              "      <progress value='3125' max='3125' style='width:300px; height:20px; vertical-align: middle;'></progress>\n",
              "      [3125/3125 11:19, Epoch 1/1]\n",
              "    </div>\n",
              "    <table border=\"1\" class=\"dataframe\">\n",
              "  <thead>\n",
              " <tr style=\"text-align: left;\">\n",
              "      <th>Step</th>\n",
              "      <th>Training Loss</th>\n",
              "    </tr>\n",
              "  </thead>\n",
              "  <tbody>\n",
              "    <tr>\n",
              "      <td>50</td>\n",
              "      <td>2.292200</td>\n",
              "    </tr>\n",
              "    <tr>\n",
              "      <td>100</td>\n",
              "      <td>0.545700</td>\n",
              "    </tr>\n",
              "    <tr>\n",
              "      <td>150</td>\n",
              "      <td>0.488300</td>\n",
              "    </tr>\n",
              "    <tr>\n",
              "      <td>200</td>\n",
              "      <td>0.465700</td>\n",
              "    </tr>\n",
              "    <tr>\n",
              "      <td>250</td>\n",
              "      <td>0.451200</td>\n",
              "    </tr>\n",
              "    <tr>\n",
              "      <td>300</td>\n",
              "      <td>0.435400</td>\n",
              "    </tr>\n",
              "    <tr>\n",
              "      <td>350</td>\n",
              "      <td>0.428500</td>\n",
              "    </tr>\n",
              "    <tr>\n",
              "      <td>400</td>\n",
              "      <td>0.420500</td>\n",
              "    </tr>\n",
              "    <tr>\n",
              "      <td>450</td>\n",
              "      <td>0.411900</td>\n",
              "    </tr>\n",
              "    <tr>\n",
              "      <td>500</td>\n",
              "      <td>0.395100</td>\n",
              "    </tr>\n",
              "    <tr>\n",
              "      <td>550</td>\n",
              "      <td>0.389400</td>\n",
              "    </tr>\n",
              "    <tr>\n",
              "      <td>600</td>\n",
              "      <td>0.391600</td>\n",
              "    </tr>\n",
              "    <tr>\n",
              "      <td>650</td>\n",
              "      <td>0.385300</td>\n",
              "    </tr>\n",
              "    <tr>\n",
              "      <td>700</td>\n",
              "      <td>0.376800</td>\n",
              "    </tr>\n",
              "    <tr>\n",
              "      <td>750</td>\n",
              "      <td>0.382600</td>\n",
              "    </tr>\n",
              "    <tr>\n",
              "      <td>800</td>\n",
              "      <td>0.380500</td>\n",
              "    </tr>\n",
              "    <tr>\n",
              "      <td>850</td>\n",
              "      <td>0.369300</td>\n",
              "    </tr>\n",
              "    <tr>\n",
              "      <td>900</td>\n",
              "      <td>0.364300</td>\n",
              "    </tr>\n",
              "    <tr>\n",
              "      <td>950</td>\n",
              "      <td>0.364500</td>\n",
              "    </tr>\n",
              "    <tr>\n",
              "      <td>1000</td>\n",
              "      <td>0.366700</td>\n",
              "    </tr>\n",
              "    <tr>\n",
              "      <td>1050</td>\n",
              "      <td>0.366700</td>\n",
              "    </tr>\n",
              "    <tr>\n",
              "      <td>1100</td>\n",
              "      <td>0.351300</td>\n",
              "    </tr>\n",
              "    <tr>\n",
              "      <td>1150</td>\n",
              "      <td>0.346500</td>\n",
              "    </tr>\n",
              "    <tr>\n",
              "      <td>1200</td>\n",
              "      <td>0.351200</td>\n",
              "    </tr>\n",
              "    <tr>\n",
              "      <td>1250</td>\n",
              "      <td>0.339700</td>\n",
              "    </tr>\n",
              "    <tr>\n",
              "      <td>1300</td>\n",
              "      <td>0.341200</td>\n",
              "    </tr>\n",
              "    <tr>\n",
              "      <td>1350</td>\n",
              "      <td>0.334100</td>\n",
              "    </tr>\n",
              "    <tr>\n",
              "      <td>1400</td>\n",
              "      <td>0.334900</td>\n",
              "    </tr>\n",
              "    <tr>\n",
              "      <td>1450</td>\n",
              "      <td>0.326500</td>\n",
              "    </tr>\n",
              "    <tr>\n",
              "      <td>1500</td>\n",
              "      <td>0.343900</td>\n",
              "    </tr>\n",
              "    <tr>\n",
              "      <td>1550</td>\n",
              "      <td>0.339600</td>\n",
              "    </tr>\n",
              "    <tr>\n",
              "      <td>1600</td>\n",
              "      <td>0.332800</td>\n",
              "    </tr>\n",
              "    <tr>\n",
              "      <td>1650</td>\n",
              "      <td>0.335700</td>\n",
              "    </tr>\n",
              "    <tr>\n",
              "      <td>1700</td>\n",
              "      <td>0.331800</td>\n",
              "    </tr>\n",
              "    <tr>\n",
              "      <td>1750</td>\n",
              "      <td>0.335400</td>\n",
              "    </tr>\n",
              "    <tr>\n",
              "      <td>1800</td>\n",
              "      <td>0.331500</td>\n",
              "    </tr>\n",
              "    <tr>\n",
              "      <td>1850</td>\n",
              "      <td>0.331900</td>\n",
              "    </tr>\n",
              "    <tr>\n",
              "      <td>1900</td>\n",
              "      <td>0.319600</td>\n",
              "    </tr>\n",
              "    <tr>\n",
              "      <td>1950</td>\n",
              "      <td>0.337500</td>\n",
              "    </tr>\n",
              "    <tr>\n",
              "      <td>2000</td>\n",
              "      <td>0.313000</td>\n",
              "    </tr>\n",
              "    <tr>\n",
              "      <td>2050</td>\n",
              "      <td>0.321500</td>\n",
              "    </tr>\n",
              "    <tr>\n",
              "      <td>2100</td>\n",
              "      <td>0.326900</td>\n",
              "    </tr>\n",
              "    <tr>\n",
              "      <td>2150</td>\n",
              "      <td>0.320800</td>\n",
              "    </tr>\n",
              "    <tr>\n",
              "      <td>2200</td>\n",
              "      <td>0.328900</td>\n",
              "    </tr>\n",
              "    <tr>\n",
              "      <td>2250</td>\n",
              "      <td>0.317400</td>\n",
              "    </tr>\n",
              "    <tr>\n",
              "      <td>2300</td>\n",
              "      <td>0.322300</td>\n",
              "    </tr>\n",
              "    <tr>\n",
              "      <td>2350</td>\n",
              "      <td>0.320800</td>\n",
              "    </tr>\n",
              "    <tr>\n",
              "      <td>2400</td>\n",
              "      <td>0.322700</td>\n",
              "    </tr>\n",
              "    <tr>\n",
              "      <td>2450</td>\n",
              "      <td>0.320100</td>\n",
              "    </tr>\n",
              "    <tr>\n",
              "      <td>2500</td>\n",
              "      <td>0.321000</td>\n",
              "    </tr>\n",
              "    <tr>\n",
              "      <td>2550</td>\n",
              "      <td>0.326200</td>\n",
              "    </tr>\n",
              "    <tr>\n",
              "      <td>2600</td>\n",
              "      <td>0.316400</td>\n",
              "    </tr>\n",
              "    <tr>\n",
              "      <td>2650</td>\n",
              "      <td>0.315200</td>\n",
              "    </tr>\n",
              "    <tr>\n",
              "      <td>2700</td>\n",
              "      <td>0.317400</td>\n",
              "    </tr>\n",
              "    <tr>\n",
              "      <td>2750</td>\n",
              "      <td>0.306800</td>\n",
              "    </tr>\n",
              "    <tr>\n",
              "      <td>2800</td>\n",
              "      <td>0.304400</td>\n",
              "    </tr>\n",
              "    <tr>\n",
              "      <td>2850</td>\n",
              "      <td>0.320000</td>\n",
              "    </tr>\n",
              "    <tr>\n",
              "      <td>2900</td>\n",
              "      <td>0.308000</td>\n",
              "    </tr>\n",
              "    <tr>\n",
              "      <td>2950</td>\n",
              "      <td>0.309200</td>\n",
              "    </tr>\n",
              "    <tr>\n",
              "      <td>3000</td>\n",
              "      <td>0.316300</td>\n",
              "    </tr>\n",
              "    <tr>\n",
              "      <td>3050</td>\n",
              "      <td>0.315400</td>\n",
              "    </tr>\n",
              "    <tr>\n",
              "      <td>3100</td>\n",
              "      <td>0.300800</td>\n",
              "    </tr>\n",
              "  </tbody>\n",
              "</table><p>"
            ],
            "text/plain": [
              "<IPython.core.display.HTML object>"
            ]
          },
          "metadata": {},
          "output_type": "display_data"
        },
        {
          "data": {
            "text/plain": [
              "('/content/drive/MyDrive/chatbot/distilgpt2_chatbot/tokenizer_config.json',\n",
              " '/content/drive/MyDrive/chatbot/distilgpt2_chatbot/special_tokens_map.json',\n",
              " '/content/drive/MyDrive/chatbot/distilgpt2_chatbot/vocab.json',\n",
              " '/content/drive/MyDrive/chatbot/distilgpt2_chatbot/merges.txt',\n",
              " '/content/drive/MyDrive/chatbot/distilgpt2_chatbot/added_tokens.json',\n",
              " '/content/drive/MyDrive/chatbot/distilgpt2_chatbot/tokenizer.json')"
            ]
          },
          "execution_count": 42,
          "metadata": {},
          "output_type": "execute_result"
        }
      ],
      "source": [
        "trainer.train()\n",
        "\n",
        "model.save_pretrained(\"/content/drive/MyDrive/chatbot/distilgpt2_chatbot\")\n",
        "tokenizer.save_pretrained(\"/content/drive/MyDrive/chatbot/distilgpt2_chatbot\")\n"
      ]
    },
    {
      "cell_type": "markdown",
      "metadata": {},
      "source": [
        "# **Response Generation Function and Chatbot Loop**"
      ]
    },
    {
      "cell_type": "code",
      "execution_count": null,
      "metadata": {
        "id": "bKovOZGzWlzx"
      },
      "outputs": [],
      "source": [
        "import torch\n",
        "\n",
        "def gpt2_generate_response(input_text, model, tokenizer):\n",
        "    model.eval()\n",
        "\n",
        "    input_ids = tokenizer.encode(f\"<|startoftext|>{input_text}<|endoftext|>\", return_tensors='pt')\n",
        "    input_ids = input_ids.to(model.device)\n",
        "\n",
        "    with torch.no_grad():\n",
        "        output = model.generate(\n",
        "            input_ids,\n",
        "            max_length=128,\n",
        "            num_return_sequences=1,\n",
        "            pad_token_id=tokenizer.eos_token_id,\n",
        "            top_k=50,\n",
        "            top_p=0.95,\n",
        "            do_sample=True\n",
        "        )\n",
        "\n",
        "    generated_text = tokenizer.decode(output[0], skip_special_tokens=True)\n",
        "\n",
        "\n",
        "    response = generated_text[len(input_text):].strip()\n",
        "\n",
        "    return response\n"
      ]
    },
    {
      "cell_type": "code",
      "execution_count": null,
      "metadata": {
        "colab": {
          "base_uri": "https://localhost:8080/"
        },
        "id": "ljoIunPKWmkb",
        "outputId": "e3162400-5075-4c06-e044-1d6f756eb8a2"
      },
      "outputs": [
        {
          "name": "stdout",
          "output_type": "stream",
          "text": [
            "Welcome to the Skyrim GPT-2 Chatbot! Type 'exit' to leave.\n",
            "You: hello\n",
            "NPC: rtoftext|>hello<|startoftext|>what do you need?\n",
            "You: hi\n",
            "NPC: startoftext|>hi<|startoftext|>the snow elves are the descendants of the first snow elves. their homeland is vast, but they remain mysterious.\n",
            "You: i didnt ask that\n",
            "NPC: didnt ask that<|startoftext|>yeah, and i’ll do\n",
            "You: quit\n",
            "NPC: Farewell, Dovahkiin.\n"
          ]
        }
      ],
      "source": [
        "print(\"Welcome to the Skyrim GPT-2 Chatbot! Type 'exit' to leave.\")\n",
        "while True:\n",
        "    user_input = input(\"You: \")\n",
        "    if user_input.lower() in ['exit', 'quit']:\n",
        "        print(\"NPC: Farewell, Dovahkiin.\")\n",
        "        break\n",
        "\n",
        "    response = gpt2_generate_response(user_input, model, tokenizer)\n",
        "    print(f\"NPC: {response}\")\n"
      ]
    }
  ],
  "metadata": {
    "accelerator": "GPU",
    "colab": {
      "gpuType": "T4",
      "provenance": []
    },
    "kernelspec": {
      "display_name": "Python 3",
      "name": "python3"
    },
    "language_info": {
      "name": "python"
    },
    "widgets": {
      "application/vnd.jupyter.widget-state+json": {
        "1f5a3c7e664a49c6a8a7f4d8deb40a61": {
          "model_module": "@jupyter-widgets/controls",
          "model_module_version": "1.5.0",
          "model_name": "FloatProgressModel",
          "state": {
            "_dom_classes": [],
            "_model_module": "@jupyter-widgets/controls",
            "_model_module_version": "1.5.0",
            "_model_name": "FloatProgressModel",
            "_view_count": null,
            "_view_module": "@jupyter-widgets/controls",
            "_view_module_version": "1.5.0",
            "_view_name": "ProgressView",
            "bar_style": "success",
            "description": "",
            "description_tooltip": null,
            "layout": "IPY_MODEL_5e4fd37fde7e43968e6de2767dc23ceb",
            "max": 50000,
            "min": 0,
            "orientation": "horizontal",
            "style": "IPY_MODEL_d20a071b44834d9ea6e5c3c36ab608e6",
            "value": 50000
          }
        },
        "59e727b33bab4d50b212acb2f625c821": {
          "model_module": "@jupyter-widgets/controls",
          "model_module_version": "1.5.0",
          "model_name": "HTMLModel",
          "state": {
            "_dom_classes": [],
            "_model_module": "@jupyter-widgets/controls",
            "_model_module_version": "1.5.0",
            "_model_name": "HTMLModel",
            "_view_count": null,
            "_view_module": "@jupyter-widgets/controls",
            "_view_module_version": "1.5.0",
            "_view_name": "HTMLView",
            "description": "",
            "description_tooltip": null,
            "layout": "IPY_MODEL_8a7601be8f634ffca508c1d83e96cc9d",
            "placeholder": "​",
            "style": "IPY_MODEL_d459d242e5be434b80dffb1a5ce24c1e",
            "value": " 50000/50000 [00:21&lt;00:00, 1429.72 examples/s]"
          }
        },
        "5d0b9cc174ca4163afef15d60d4c1f37": {
          "model_module": "@jupyter-widgets/base",
          "model_module_version": "1.2.0",
          "model_name": "LayoutModel",
          "state": {
            "_model_module": "@jupyter-widgets/base",
            "_model_module_version": "1.2.0",
            "_model_name": "LayoutModel",
            "_view_count": null,
            "_view_module": "@jupyter-widgets/base",
            "_view_module_version": "1.2.0",
            "_view_name": "LayoutView",
            "align_content": null,
            "align_items": null,
            "align_self": null,
            "border": null,
            "bottom": null,
            "display": null,
            "flex": null,
            "flex_flow": null,
            "grid_area": null,
            "grid_auto_columns": null,
            "grid_auto_flow": null,
            "grid_auto_rows": null,
            "grid_column": null,
            "grid_gap": null,
            "grid_row": null,
            "grid_template_areas": null,
            "grid_template_columns": null,
            "grid_template_rows": null,
            "height": null,
            "justify_content": null,
            "justify_items": null,
            "left": null,
            "margin": null,
            "max_height": null,
            "max_width": null,
            "min_height": null,
            "min_width": null,
            "object_fit": null,
            "object_position": null,
            "order": null,
            "overflow": null,
            "overflow_x": null,
            "overflow_y": null,
            "padding": null,
            "right": null,
            "top": null,
            "visibility": null,
            "width": null
          }
        },
        "5e4fd37fde7e43968e6de2767dc23ceb": {
          "model_module": "@jupyter-widgets/base",
          "model_module_version": "1.2.0",
          "model_name": "LayoutModel",
          "state": {
            "_model_module": "@jupyter-widgets/base",
            "_model_module_version": "1.2.0",
            "_model_name": "LayoutModel",
            "_view_count": null,
            "_view_module": "@jupyter-widgets/base",
            "_view_module_version": "1.2.0",
            "_view_name": "LayoutView",
            "align_content": null,
            "align_items": null,
            "align_self": null,
            "border": null,
            "bottom": null,
            "display": null,
            "flex": null,
            "flex_flow": null,
            "grid_area": null,
            "grid_auto_columns": null,
            "grid_auto_flow": null,
            "grid_auto_rows": null,
            "grid_column": null,
            "grid_gap": null,
            "grid_row": null,
            "grid_template_areas": null,
            "grid_template_columns": null,
            "grid_template_rows": null,
            "height": null,
            "justify_content": null,
            "justify_items": null,
            "left": null,
            "margin": null,
            "max_height": null,
            "max_width": null,
            "min_height": null,
            "min_width": null,
            "object_fit": null,
            "object_position": null,
            "order": null,
            "overflow": null,
            "overflow_x": null,
            "overflow_y": null,
            "padding": null,
            "right": null,
            "top": null,
            "visibility": null,
            "width": null
          }
        },
        "6cd3c6ec273740f5a723e24ad9b3b8dd": {
          "model_module": "@jupyter-widgets/controls",
          "model_module_version": "1.5.0",
          "model_name": "HBoxModel",
          "state": {
            "_dom_classes": [],
            "_model_module": "@jupyter-widgets/controls",
            "_model_module_version": "1.5.0",
            "_model_name": "HBoxModel",
            "_view_count": null,
            "_view_module": "@jupyter-widgets/controls",
            "_view_module_version": "1.5.0",
            "_view_name": "HBoxView",
            "box_style": "",
            "children": [
              "IPY_MODEL_e5ec954969ff48c7a20942cd4c77ff18",
              "IPY_MODEL_1f5a3c7e664a49c6a8a7f4d8deb40a61",
              "IPY_MODEL_59e727b33bab4d50b212acb2f625c821"
            ],
            "layout": "IPY_MODEL_8934ec688ca341e0ad91ce12b67a0b40"
          }
        },
        "8934ec688ca341e0ad91ce12b67a0b40": {
          "model_module": "@jupyter-widgets/base",
          "model_module_version": "1.2.0",
          "model_name": "LayoutModel",
          "state": {
            "_model_module": "@jupyter-widgets/base",
            "_model_module_version": "1.2.0",
            "_model_name": "LayoutModel",
            "_view_count": null,
            "_view_module": "@jupyter-widgets/base",
            "_view_module_version": "1.2.0",
            "_view_name": "LayoutView",
            "align_content": null,
            "align_items": null,
            "align_self": null,
            "border": null,
            "bottom": null,
            "display": null,
            "flex": null,
            "flex_flow": null,
            "grid_area": null,
            "grid_auto_columns": null,
            "grid_auto_flow": null,
            "grid_auto_rows": null,
            "grid_column": null,
            "grid_gap": null,
            "grid_row": null,
            "grid_template_areas": null,
            "grid_template_columns": null,
            "grid_template_rows": null,
            "height": null,
            "justify_content": null,
            "justify_items": null,
            "left": null,
            "margin": null,
            "max_height": null,
            "max_width": null,
            "min_height": null,
            "min_width": null,
            "object_fit": null,
            "object_position": null,
            "order": null,
            "overflow": null,
            "overflow_x": null,
            "overflow_y": null,
            "padding": null,
            "right": null,
            "top": null,
            "visibility": null,
            "width": null
          }
        },
        "8a7601be8f634ffca508c1d83e96cc9d": {
          "model_module": "@jupyter-widgets/base",
          "model_module_version": "1.2.0",
          "model_name": "LayoutModel",
          "state": {
            "_model_module": "@jupyter-widgets/base",
            "_model_module_version": "1.2.0",
            "_model_name": "LayoutModel",
            "_view_count": null,
            "_view_module": "@jupyter-widgets/base",
            "_view_module_version": "1.2.0",
            "_view_name": "LayoutView",
            "align_content": null,
            "align_items": null,
            "align_self": null,
            "border": null,
            "bottom": null,
            "display": null,
            "flex": null,
            "flex_flow": null,
            "grid_area": null,
            "grid_auto_columns": null,
            "grid_auto_flow": null,
            "grid_auto_rows": null,
            "grid_column": null,
            "grid_gap": null,
            "grid_row": null,
            "grid_template_areas": null,
            "grid_template_columns": null,
            "grid_template_rows": null,
            "height": null,
            "justify_content": null,
            "justify_items": null,
            "left": null,
            "margin": null,
            "max_height": null,
            "max_width": null,
            "min_height": null,
            "min_width": null,
            "object_fit": null,
            "object_position": null,
            "order": null,
            "overflow": null,
            "overflow_x": null,
            "overflow_y": null,
            "padding": null,
            "right": null,
            "top": null,
            "visibility": null,
            "width": null
          }
        },
        "d20a071b44834d9ea6e5c3c36ab608e6": {
          "model_module": "@jupyter-widgets/controls",
          "model_module_version": "1.5.0",
          "model_name": "ProgressStyleModel",
          "state": {
            "_model_module": "@jupyter-widgets/controls",
            "_model_module_version": "1.5.0",
            "_model_name": "ProgressStyleModel",
            "_view_count": null,
            "_view_module": "@jupyter-widgets/base",
            "_view_module_version": "1.2.0",
            "_view_name": "StyleView",
            "bar_color": null,
            "description_width": ""
          }
        },
        "d459d242e5be434b80dffb1a5ce24c1e": {
          "model_module": "@jupyter-widgets/controls",
          "model_module_version": "1.5.0",
          "model_name": "DescriptionStyleModel",
          "state": {
            "_model_module": "@jupyter-widgets/controls",
            "_model_module_version": "1.5.0",
            "_model_name": "DescriptionStyleModel",
            "_view_count": null,
            "_view_module": "@jupyter-widgets/base",
            "_view_module_version": "1.2.0",
            "_view_name": "StyleView",
            "description_width": ""
          }
        },
        "de93675d2ecf4d768cfbf94b2a39461c": {
          "model_module": "@jupyter-widgets/controls",
          "model_module_version": "1.5.0",
          "model_name": "DescriptionStyleModel",
          "state": {
            "_model_module": "@jupyter-widgets/controls",
            "_model_module_version": "1.5.0",
            "_model_name": "DescriptionStyleModel",
            "_view_count": null,
            "_view_module": "@jupyter-widgets/base",
            "_view_module_version": "1.2.0",
            "_view_name": "StyleView",
            "description_width": ""
          }
        },
        "e5ec954969ff48c7a20942cd4c77ff18": {
          "model_module": "@jupyter-widgets/controls",
          "model_module_version": "1.5.0",
          "model_name": "HTMLModel",
          "state": {
            "_dom_classes": [],
            "_model_module": "@jupyter-widgets/controls",
            "_model_module_version": "1.5.0",
            "_model_name": "HTMLModel",
            "_view_count": null,
            "_view_module": "@jupyter-widgets/controls",
            "_view_module_version": "1.5.0",
            "_view_name": "HTMLView",
            "description": "",
            "description_tooltip": null,
            "layout": "IPY_MODEL_5d0b9cc174ca4163afef15d60d4c1f37",
            "placeholder": "​",
            "style": "IPY_MODEL_de93675d2ecf4d768cfbf94b2a39461c",
            "value": "Map: 100%"
          }
        }
      }
    }
  },
  "nbformat": 4,
  "nbformat_minor": 0
}
